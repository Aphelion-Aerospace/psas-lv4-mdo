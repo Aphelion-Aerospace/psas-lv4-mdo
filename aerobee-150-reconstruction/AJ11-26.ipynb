{
 "metadata": {
  "name": ""
 },
 "nbformat": 3,
 "nbformat_minor": 0,
 "worksheets": [
  {
   "cells": [
    {
     "cell_type": "markdown",
     "metadata": {},
     "source": [
      "# Aerobee 150 Engine\n",
      "\n",
      "The Aerobee 150 flew on an AJ11-26 IRFNA and ANFA hypergolic pressure fed liquid motor.\n",
      "\n",
      "We have some information to start with."
     ]
    },
    {
     "cell_type": "code",
     "collapsed": false,
     "input": [
      "from math import pi, log\n",
      "\n",
      "# Physics\n",
      "g_0      =     9.80665   # kg.m/s^2 Standard gravity\n",
      "\n",
      "# Chemistry\n",
      "rho_rfna =   1500.0      # kg/m^3   Density of IRFNA\n",
      "rho_fa   =   1130.0      # kg/m^3   Density of Furfuryl Alcohol\n",
      "rho_an   =   1021.0      # kg/m^3   Density of Aniline\n",
      "\n",
      "# Data\n",
      "Isp       =   209.0      # s       Average Specific Impulse accounting for underexpantion[1]\n",
      "r         =     0.190    # m       Radius of the tanks (OD of rocket)[2]\n",
      "Burn_time =    52.0      # s       Duration of the burn[2]\n",
      "Mass_Fuel =   134.4      # kg      Mass of the fuel burnt[1]\n",
      "Mass_Ox   =   343.9      # kg      Mass of the oxidizer burnt[1]"
     ],
     "language": "python",
     "metadata": {},
     "outputs": [],
     "prompt_number": 1
    },
    {
     "cell_type": "markdown",
     "metadata": {},
     "source": [
      "First lets compute the fuel density, O/F ratio, mass flow rate, and Thrust"
     ]
    },
    {
     "cell_type": "code",
     "collapsed": false,
     "input": [
      "rho_fuel = rho_an*0.65 + rho_fa*0.35\n",
      "OF = Mass_Ox / Mass_Fuel\n",
      "mdot = (Mass_Fuel+Mass_Ox) / Burn_time\n",
      "Thrust = mdot*g_0*Isp\n",
      "\n",
      "print \"O/F ratio: %6.1f\" % OF\n",
      "print \"mdot:      %7.2f [kg/s]\" % mdot\n",
      "print \"Thrust:    %6.1f [kN]\" % (Thrust/1000.0)"
     ],
     "language": "python",
     "metadata": {},
     "outputs": [
      {
       "output_type": "stream",
       "stream": "stdout",
       "text": [
        "O/F ratio:    2.6\n",
        "mdot:         9.20 [kg/s]\n",
        "Thrust:      18.9 [kN]\n"
       ]
      }
     ],
     "prompt_number": 2
    },
    {
     "cell_type": "code",
     "collapsed": false,
     "input": [
      "# Mass flow for each propllent\n",
      "mdot_o = mdot / (1 + (1/OF))\n",
      "mdot_f = mdot / (1 + OF)\n",
      "print \"Ox flow:   %7.2f kg/s\" % mdot_o\n",
      "print \"Fuel flow: %7.2f kg/s\" % mdot_f\n",
      "\n",
      "def tank_length(m, rho):\n",
      "    l = m / (rho*pi*r*r)\n",
      "    return l\n",
      "\n",
      "l_o = tank_length(Mass_Ox, rho_rfna)\n",
      "l_o += l_o*0.1 # add 10% for ullage\n",
      "l_f = tank_length(Mass_Fuel, rho_fuel)\n",
      "l_f += l_f*0.1 # add 10% for ullage\n",
      "\n",
      "print \"Ox tank length: . . . .%7.3f m\" % l_o\n",
      "print \"Fuel tank length:      %7.3f m\" % l_f"
     ],
     "language": "python",
     "metadata": {},
     "outputs": [
      {
       "output_type": "stream",
       "stream": "stdout",
       "text": [
        "Ox flow:      6.61 kg/s\n",
        "Fuel flow:    2.58 kg/s\n",
        "Ox tank length: . . . .  2.224 m\n",
        "Fuel tank length:        1.231 m\n"
       ]
      }
     ],
     "prompt_number": 3
    },
    {
     "cell_type": "markdown",
     "metadata": {},
     "source": [
      "## References\n",
      "\n",
      " 1. Vought Astronautics, PERFORMANCE SUMMARY FOR THE AEROBEE 150A SOUNDING ROCKET VEHICLE REPORT NO. AST/E1R-13319, April 18, 1961\n",
      " 1. NASA Technical Note D-3912: A Compendium Of NASA Aerobee Sounding Rocket Launchings For 1964"
     ]
    }
   ],
   "metadata": {}
  }
 ]
}