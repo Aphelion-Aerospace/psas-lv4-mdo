{
 "cells": [
  {
   "cell_type": "markdown",
   "metadata": {},
   "source": [
    "# MDO JUPYTER FORMATTING GUIDE\n",
    "\n",
    "Portland State Aerospace Society\n",
    "\n",
    "Version 0.02.01\n",
    "\n",
    "Created: 7/18/2021 \n",
    "\n",
    "Modified: 7/20/2021 \n",
    "\n",
    "## Introduction\n",
    "\n",
    "Jupyter Notebooks in the Multi-Disciplinary Optimization (MDO) repository must have standardized documentation and formatting for Python code based on this guide. This guide is based on Python's PEP 8 (Style Guide for Python Code) and PEP 257 (Docstring convention).\n",
    "\n",
    "PEP 8   - https://www.python.org/dev/peps/pep-0008/\n",
    "\n",
    "PEP 257 - https://www.python.org/dev/peps/pep-0257/\n",
    "\n",
    "When in doubt, reference these links. Not every note in these PEP guides has to be followed.\n",
    "\n",
    "This guide is still a work-in progress and is subject to change. Not all Jupyter Notebooks in the MDO are consistent with this guide yet."
   ]
  },
  {
   "cell_type": "markdown",
   "metadata": {},
   "source": [
    "# DOCSTRINGS\n",
    "\n",
    "Docstrings are multi-line comments provide relevant information about a function. Every function must have a docstring."
   ]
  },
  {
   "cell_type": "markdown",
   "metadata": {},
   "source": [
    "## Formatting\n",
    "\n",
    "Docstrings must begin and end 3 double quotation marks.\n",
    "\n",
    "Each of the following components are seperated by a blank line in the docstring:\n",
    " - One-line summary \n",
    "     - Required\n",
    "     - Begins on the same line as the 3 double quotation marks\n",
    " - Parameter List\n",
    "     - Required when applicable (the function has parameters)\n",
    " - Additioal Notes\n",
    "     - Optional\n",
    "     - Notes can serve as a detailed summary and description to keep the one-line summary short\n",
    "     - Sentences are not seperated by blank lines\n",
    "     - Sentences end with periods\n",
    "     - This does not replace normal comments in the code\n",
    " - A citation (required when applicable)\n",
    "     - Required when applicable (code is based on outside material)\n",
    "     - If there are citations, there must be a bibliography in the document\n",
    " \n",
    "The closing 3 double quotation marks remain on their own line unless the docstring has only a one-line summary."
   ]
  },
  {
   "cell_type": "code",
   "execution_count": 1,
   "metadata": {},
   "outputs": [],
   "source": [
    "# One-line docstring example\n",
    "def helloWorld():\n",
    "    \"\"\"Prints 'Hello World' just for fun :)\"\"\"\n",
    "    print(\"Hello World\")\n",
    "\n",
    "# Common/Simple docstring example\n",
    "def multiply (a, b):\n",
    "    \"\"\"Multiplies two numbers\n",
    "    \n",
    "    Paramters:\n",
    "    a - one multiple\n",
    "    b - the other multiple\n",
    "    \"\"\"\n",
    "    return a*b\n",
    "\n",
    "# Complete docstring example\n",
    "# This function was taken from Aerodynamics_Model\n",
    "def C_N (N, rho, v_0, A_ref):\n",
    "    \"\"\"Calculates the normal force coefficent\n",
    "    \n",
    "    Parameters:\n",
    "    N       - Normal force [N]\n",
    "    rho     - Density of air [kg/(m^3)]\n",
    "    v_0     - Free-stream velocity [m/s]\n",
    "    A_ref   - Reference area [m^2]\n",
    "    \n",
    "    It is expected that the metric system is used.\n",
    "    Any consistent unit system is acceptable but \n",
    "    may require the use of coefficients.\n",
    "    \n",
    "    OpenRocket 2013, equation 3.1\n",
    "    \"\"\"\n",
    "    return N * 2 / (rho * v_0^2 * A_ref)"
   ]
  },
  {
   "cell_type": "markdown",
   "metadata": {},
   "source": [
    "## Parameter List\n",
    "\n",
    "Each docstring should still list the descriptions of each parameter every time. \n",
    "\n",
    "Many of the equation-functions in a notebook use the same set parameters. It is optional to begin the document with a table explaining each common parameter. \n",
    "\n",
    "It is recommended that the descriptions of the parameters begin three spaces after the longest parameter with a hyphen and a space. Units for a parameter must be enclosed in brackets. Parentheses are recommended for organizing units within brackets"
   ]
  },
  {
   "cell_type": "markdown",
   "metadata": {},
   "source": [
    "## Notes"
   ]
  },
  {
   "cell_type": "markdown",
   "metadata": {},
   "source": [
    "# EQUATION/CALCULATION FUNCTIONS\n",
    "\n",
    "Functions that do calcuations based on equations (equation/calculation functions) are an integral part to the MDO repository. The following are required for these functions."
   ]
  },
  {
   "cell_type": "markdown",
   "metadata": {},
   "source": [
    "## Naming functions and variables\n",
    "\n",
    "Names should either be the literal characters used in an equation or the spelling of the greek characters. \n",
    "\n",
    "Subscripts are denoted with an underscore. \n",
    "\n",
    "The name of a function should be the variable that it calculates (or the variable the equation is equal to)."
   ]
  },
  {
   "cell_type": "markdown",
   "metadata": {},
   "source": [
    "## One-Line Summaries\n",
    "\n",
    "It is sufficient to say \"Calculates the (whatever the equation is equal to)\" for its one-line summary"
   ]
  },
  {
   "cell_type": "markdown",
   "metadata": {},
   "source": [
    "## Citations\n",
    "\n",
    "Each document must have a bibliography in a text section for all material refereced in the document. Each equation/calculation function must have a short citation that includes:\n",
    " - The author(s) or title of the material\n",
    " - The year that the material was published\n",
    " - The equation number (or other identifier)\n",
    "\n"
   ]
  },
  {
   "cell_type": "markdown",
   "metadata": {},
   "source": [
    "## Code Formatting for Equation Calculations\n",
    "\n",
    "If a calculation spans multiple lines, line breaks happen before binary operators (i.e. the additional lines begin with the operator).\n",
    "\n",
    "[At the moment, format equations with your personal preference of what is easy to read. Use additional indentations, insert parentheses, and ommit spaces as needed. For more information, reference PEP 8. This will be changed in future revisions of this document.]\n",
    "\n",
    "Avoid changing the format of an equation from the source material. Simple subtitutions are fine (such as changing a divide by 2 to a multiplication of 0.5, or dividing by 1/2 to a multiplication of 2).\n",
    "\n",
    "It is acceptable to seperate an equation into multiple terms or expressions. Use blank lines to seperate the major steps/components of the equation. Use comments for additional clarification."
   ]
  },
  {
   "cell_type": "code",
   "execution_count": 2,
   "metadata": {},
   "outputs": [],
   "source": [
    "# Equation/Calculation function examples\n",
    "# These function was taken from Aerodynamics_Model\n",
    "\n",
    "def roll_damp_fin_shape(reference_len, root, tip, height):\n",
    "        \"\"\"Returns the subsonic fin shape term, \n",
    "        \n",
    "        Parameters:\n",
    "        reference_len   - body diameter\n",
    "        root            - fin root length\n",
    "        tip             - fin tip length\n",
    "        height          - spanwise length of one fin\n",
    "        \n",
    "        This is specifically for a trapazoidal fin.\n",
    "        \n",
    "        OpenRocket 2013, eqation 3.70\n",
    "        \"\"\"\n",
    "        radius = reference_len / 2\n",
    "        \n",
    "        # calculations are seperated into three terms for readability\n",
    "        term1 = (root + tip) * height * radius**2 / 2\n",
    "        term2 = (root + 2 * tip) * height**2 * radius/3\n",
    "        term3 = (root + 3 * tip) * height**3 / 12\n",
    "        \n",
    "        return term1 + term2 + term3\n",
    "\n",
    "    \n",
    "def frictcoef(body_len, reference_len, thickness, MAC_length, fin_area, tip, A_ref):\n",
    "        \"\"\"Returns the drag coefficient, OpenRocket eq 3.85(?) \n",
    "        \n",
    "        Parameters:\n",
    "        body_len        - Body length\n",
    "        reference_len   - Body diameter\n",
    "        thickness       - Fin thickness\n",
    "        MAC_length      - Mean Aerodynamic Chord\n",
    "        fin_area        - fin area (does this mean one side or both sides?)\n",
    "        tip             - fin tip length\n",
    "        A_ref           - Reference Area\n",
    "        \n",
    "        Temporarily assumes the nose cone is the cylinder body for now.\n",
    "        This may be a modified version of the 3.85 equation, double check.\n",
    "        Some terms need to be parameterized, double check.\n",
    "        \n",
    "        OpenRocket 2013, equation 3.85(?)\n",
    "        \"\"\"\n",
    "        \n",
    "        # These two varaibles were typed in, the should be parameterized\n",
    "        # skin friction drag coefficient\n",
    "        compressibility_correction = 1\n",
    "        # number of fins on the rocket\n",
    "        # this may not actually be the number of fins, double check\n",
    "        num_fins = 4   \n",
    "        \n",
    "        # Body calculations\n",
    "        fitness_ratio = body_len / reference_len         \n",
    "        body_correction = 1 + (1/(2*fitness_ratio))\n",
    "        A_wet_body = np.pi * reference * body_len\n",
    "        \n",
    "        # Fin calculations\n",
    "        fin_correction = 1 + (2*thickness/MAC_length)\n",
    "        A_wet_fin = (2 * fin_area) + (tip * thickness)\n",
    "        \n",
    "        # The numberator is complex\n",
    "        numerator = (body_correction * A_wet_body\n",
    "                      + fin_correction * A_wet_fin * num_fins)\n",
    "        \n",
    "        return compressibility_correction * numerator / A_ref"
   ]
  },
  {
   "cell_type": "markdown",
   "metadata": {},
   "source": [
    "# OTHER\n"
   ]
  },
  {
   "cell_type": "markdown",
   "metadata": {},
   "source": [
    "## Line Length\n",
    "PEP 8 suggests that a line length is limited to 72 characters. Since the python code is in Jupyter Notebook kernels, the line length must be shorter the full width of the kernel (120 characters). This includes spaces in tabs."
   ]
  },
  {
   "cell_type": "code",
   "execution_count": 3,
   "metadata": {},
   "outputs": [],
   "source": [
    "# 72 Character Line length\n",
    "############################################################\n",
    "\n",
    "# 120 Character Line Length\n",
    "########################################################################################################################\n",
    "\n",
    "                                                                                                                                                                                                                                                                    # This is not acceptable >:(   "
   ]
  },
  {
   "cell_type": "markdown",
   "metadata": {},
   "source": [
    "# BIBLIOGRAPHY\n",
    "\n",
    "[Still in progress, but almost no other notebook has one yet either. Which citation format should be used? ASME used here for now.]\n",
    "\n",
    "[1] Niskansen, S., 2013, *OpenRocket technical documentation*,  OpenRocket version 13.05, from https://openrocket.info/documentation.html"
   ]
  }
 ],
 "metadata": {
  "kernelspec": {
   "display_name": "Python 3",
   "language": "python",
   "name": "python3"
  },
  "language_info": {
   "codemirror_mode": {
    "name": "ipython",
    "version": 3
   },
   "file_extension": ".py",
   "mimetype": "text/x-python",
   "name": "python",
   "nbconvert_exporter": "python",
   "pygments_lexer": "ipython3",
   "version": "3.9.6"
  }
 },
 "nbformat": 4,
 "nbformat_minor": 4
}
