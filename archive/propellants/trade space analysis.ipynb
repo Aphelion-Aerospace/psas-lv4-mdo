{
 "cells": [
  {
   "cell_type": "code",
   "execution_count": 24,
   "metadata": {},
   "outputs": [
    {
     "name": "stderr",
     "output_type": "stream",
     "text": [
      "ERROR:root:File `'./openrocket_interface.ipynb.py'` not found.\n"
     ]
    },
    {
     "ename": "NameError",
     "evalue": "name 'p_ch' is not defined",
     "output_type": "error",
     "traceback": [
      "\u001b[0;31m---------------------------------------------------------------------------\u001b[0m",
      "\u001b[0;31mNameError\u001b[0m                                 Traceback (most recent call last)",
      "\u001b[0;32m~/Code/liquid-engine-analysis/trajectory.ipynb\u001b[0m in \u001b[0;36m<module>\u001b[0;34m\u001b[0m\n\u001b[1;32m      2\u001b[0m \u001b[0;31m# dt is time step [s]\u001b[0m\u001b[0;34m\u001b[0m\u001b[0;34m\u001b[0m\u001b[0;34m\u001b[0m\u001b[0m\n\u001b[1;32m      3\u001b[0m def trajectory(m_prop, mdot, dia, p_e, bounds=(500, 1500), x_init=0, dt=.1,\n\u001b[0;32m----> 4\u001b[0;31m                p_ch=p_ch, T_ch=T_ch, ke=ke, Re=Re):\n\u001b[0m\u001b[1;32m      5\u001b[0m     sim = Simulation(m_prop, mdot, dia, p_e, bounds[0], bounds[1], min_throttle, x_init,\n\u001b[1;32m      6\u001b[0m                      p_ch, T_ch, ke, Re) # get this puppy rolling\n",
      "\u001b[0;31mNameError\u001b[0m: name 'p_ch' is not defined"
     ]
    }
   ],
   "source": [
    "%run ../trajectory.ipynb\n",
    "import csv"
   ]
  },
  {
   "cell_type": "markdown",
   "metadata": {},
   "source": [
    "# Propellant Trade Space Analyzer\n",
    "\n",
    "## Purpose\n",
    "\n",
    "This document is for comparing different configurations of liquid propellant. Before a design optimization can occur, we must specify certain propellant characteristics, as determined by our selection and the outputs of [CEArun](https://cearun.grc.nasa.gov/). However, it is not immediately obvious from just thermodynamic properties how various propellant configurations will effect the rocket's performance as a whole. Hence, this.\n",
    "\n",
    "## Context\n",
    "\n",
    "In order to compare propellant configurations, we make the *ceterus paribus* assumption that all other aspects of the LV4 rocket are held constant. The canonical outputs of our Multi-disciplinary Design Optimization are used to dictate the total mass of propellants, total mass flow rates, and exit pressure. The same trajectory simulation that is used in the MDO is used here to numerically integrate the results of launching a rocket with a given propellant configuration. \n",
    "\n",
    "## Parameters\n",
    "\n",
    "We must explicitly choose the following pieces of information:\n",
    "* Chamber Pressure, PSI (assumed identical to at the injector)\n",
    "* Oxygen/Fuel ratio\n",
    "* Oxidizer material (assumed to be liquid oxygen)\n",
    "* Fuel material, water ratio, and holding temperature (assumed 419.15 K)\n",
    "    * This entails fuel density, kg/m^3, which must be hand-calculated as a weighted average of pure fuel and pure water\n",
    "\n",
    "The following pieces of information are given by CEArun:\n",
    "* Chamber temperature, K\n",
    "* Specific heat ratio of propellant (gamma or ke)\n",
    "* Molar mass, g/mol\n",
    "    * The specific gas constant is calculated for us based on molar mass.\n",
    "\n",
    "## Inputs\n",
    "\n",
    "This script requires only a .csv file with one row for each propellant configuration and one column for each parameter.\n",
    "\n",
    "## Outputs\n",
    "\n",
    "The relevant outputs of each trajectory simulation are saved as a text file.\n",
    "\n",
    "## Standard Operating Procedure\n",
    "0. Read (most of) this document.\n",
    "1. Open ./propellants/propellants.csv in a text editor.\n",
    "2. Follow formatting example and for each propellant (on its own line) enter in this order (using the specified units):\n",
    "    * fuel density, O/F ratio, chamber pressure, chamber temperature, specific heat ratio, molar mass, and a string to label the propellant configuration.\n",
    "3. Save the .csv file.\n",
    "4. Run all code blocks in this document in sequential order.\n",
    "5. ???\n",
    "6. Profit!"
   ]
  },
  {
   "cell_type": "markdown",
   "metadata": {},
   "source": [
    "# Canonical Design Parameters\n",
    "This code block is for your reference."
   ]
  },
  {
   "cell_type": "code",
   "execution_count": 2,
   "metadata": {},
   "outputs": [],
   "source": [
    "# canonical lv4 design variables\n",
    "m_prop_can = 123.35069377654865\n",
    "mdot_can   = 2.6244828455178943\n",
    "p_e_can    = 42.974369360377864\n",
    "\n",
    "# canonical propellant configuration, for reference\n",
    "# combustion gas properties ke, Re, T_ch, determined from CEArun\n",
    "# with chamber pressure=350 psi, fuel temp=419.15 K, \n",
    "#      lox temp=90 K, OF=1.3 for fuel = 64.8% IPA (2propanol) / 35.2% H20\n",
    "rho_ipa = 849.28   # kg/m^3  Density of 64.8% IPA / 35.2% H20\n",
    "OF   = 1.3        # O/F ratio, this is somewhat arbitrary but CEA says its good.\n",
    "p_ch = 350 # chamber pressure, PSI\n",
    "T_ch = 3097.82 # chamber temperature, K\n",
    "ke   = 1.1251 # specific heat ratio, propellant (aka gammas)\n",
    "M    = 23.196 # molar mass\n",
    "Re   = spec_gas(M) # specific gas constant, propellant"
   ]
  },
  {
   "cell_type": "markdown",
   "metadata": {},
   "source": [
    "# Explanans\n",
    "\n",
    "First of all, I'm sorry about the hacky use of global variables. They don't cause any problems, but they are unsightly.\n",
    "\n",
    "**test_run** takes a given propellant configuration, runs a trajectory simulation, and returns the simulation object.\n",
    "\n",
    "**print_results** takes a simulation object and an index number, and saves all the relevant information from the trajectory to a text file in ./propellants/ named by the index.\n",
    "\n",
    "**load_csv** takes a string that names a .csv file, and returns an isomorphic multidimensional array.\n",
    "\n",
    "**run_batch** takes no explicit arguments and the name of the .csv file as an implicit parameter, and then runs and saves a trajectory simulation for each propellant configuration.\n",
    "\n",
    "The last code block of this document simply calls run_batch(). The end-user need only concern themself with setting up the .csv file correctly."
   ]
  },
  {
   "cell_type": "code",
   "execution_count": 3,
   "metadata": {},
   "outputs": [],
   "source": [
    "def test_run(ipa, OF_param, p_ch, T_ch, ke, M, comment): # OF implicitly invoked, don't worry\n",
    "    global OF, rho_ipa # I SAID I'M SORRY!!\n",
    "    rho_ipa = ipa\n",
    "    OF = OF_param\n",
    "    Re = spec_gas(M)\n",
    "    sim = trajectory(m_prop_can, mdot_can, dia, p_e_can,\n",
    "                     p_ch=p_ch, T_ch=T_ch, ke=ke, Re=Re)\n",
    "    sim.comment = comment\n",
    "    sim.OF = OF_param\n",
    "    sim.ipa = rho_ipa\n",
    "    sim.M = M\n",
    "    return sim"
   ]
  },
  {
   "cell_type": "code",
   "execution_count": 4,
   "metadata": {},
   "outputs": [],
   "source": [
    "# this creates a list of relevant strings from trajectory\n",
    "def print_results(sim, index):\n",
    "    text_base = [] # list of lines of strings\n",
    "    \n",
    "    np.set_printoptions(precision=3) # this line may be deprecated, i copy-pasted most of this section\n",
    "    \n",
    "    text_base.append('INPUTS')\n",
    "    text_base.append('\\nComment: ' + sim.comment)\n",
    "    text_base.append('\\nFuel density                               = %5.3f kg/m^3' % sim.ipa)\n",
    "    text_base.append('\\nO/F ratio                                  = %5.3f ' % sim.OF)\n",
    "    text_base.append('\\nchamber pressure                           = {:.3f} kPa'.format(sim.p_ch/1000))\n",
    "    text_base.append('\\nChamber temperature                        = {:.3f} K'.format(sim.T_ch))\n",
    "    text_base.append('\\nSpecific heat ratio                        = %5.3f' % sim.ke)\n",
    "    text_base.append('\\nMolar mass                                 = %5.3f' % sim.M)\n",
    "    text_base.append('\\nSpecific gas constant                      = %5.3f J/K' % sim.Re)\n",
    "    text_base.append('\\n')\n",
    "    text_base.append('\\nDESIGN PARAMETERS')\n",
    "    text_base.append('\\n-----------------------------')\n",
    "    text_base.append('\\ndesign total propellant mass               = {:.3f} kg'.format(m_prop_can))\n",
    "    text_base.append('\\ndesign mass flow rate                      = {:.3f} kg/s'.format(mdot_can))\n",
    "    text_base.append('\\ndesign nozzle exit pressure                = {:.3f} kPa'.format(p_e_can))\n",
    "    text_base.append('\\n')\n",
    "    text_base.append(\"\\nENGINE SYSTEM DETAILS\")\n",
    "    text_base.append(\"\\n-----------------------------\")\n",
    "    text_base.append('\\ndesign Throat pressure                     = {:.3f} kPa'.format(sim.p_t/1000))\n",
    "    text_base.append('\\ndesign Throat temperature                  = {:.3f} K'.format(sim.T_t))\n",
    "    text_base.append('\\ndesign exit velocity                       = {:.3f} m/s'.format(sim.Ve))\n",
    "    text_base.append('\\ndesign thrust (ground level)               = {:.3f} kN'.format(sim.F[0]/1000))\n",
    "    text_base.append('\\ndesign thrust (vacuum)                     = {:.2f} kN'.format(sim.F[sim.F_index]/1000))\n",
    "    text_base.append('\\ndesign expansion ratio                     = {:.3f}'.format(sim.ex))\n",
    "    text_base.append('\\ndesign Exit area                           = {:.3f} in.^2'.format(sim.A_e/0.0254**2))\n",
    "    text_base.append('\\ndesign throat area                         = {:.3f} in.^2'.format(sim.A_t/0.0254**2))\n",
    "    text_base.append('\\ndesign isp                                 = {:.3f} s'.format(sim.Ve/g_n))\n",
    "    text_base.append('\\ndesign total impulse                       = {:.3f} kN*s'.format(\n",
    "                                                  sim.t[sim.F_index]*(sim.F[sim.F_index]/1000 + sim.F[0]/1000)/2))\n",
    "    text_base.append('\\ndesign dV                                  = {:.3f} km/s'.format(sim.dV1))\n",
    "    text_base.append('\\nmission time at burnout                    = {:.3f} s'.format(sim.t[sim.F_index]))\n",
    "    \n",
    "    text_base.append('\\n\\nPlumbing Details\\n------------------')\n",
    "    # Mass flow for each propllent\n",
    "    mdot_o, mdot_f = proportion(mdot_can)\n",
    "    text_base.append(\"\\nOx flow: . . . . . . . . . . %7.3f kg/s\" % mdot_o)\n",
    "    text_base.append(\"\\nFuel flow:                   %7.3f kg/s\" % mdot_f)\n",
    "    \n",
    "    # Propellent Mass for each propllent\n",
    "    mprop_o, mprop_f = proportion(m_prop_can)\n",
    "    text_base.append(\"\\nOx mass: . . . . . . . . . . . %5.3f kg\" % mprop_o)\n",
    "    text_base.append(\"\\nFuel mass:                     %5.3f kg\" % mprop_f)\n",
    "    \n",
    "    # dimensions of each tank\n",
    "    text_base.append(\"\\nTank outer diameters: . . . . . . . %7.3f m\" % (2*sim.r))\n",
    "    text_base.append(\"\\nOx tank length + ullage:      %7.3f m\" % sim.l_o)\n",
    "    text_base.append(\"\\nFuel tank length + ullage:    %7.3f m\" % sim.l_f)\n",
    "    \n",
    "    # Tank thickness for each tank (mm)\n",
    "    thickness_o = tank_thickness(Al, sim.r)\n",
    "    thickness_f = tank_thickness(CF, sim.r)\n",
    "    text_base.append(\"\\nOx tank thickness:            %5.3f mm\" % (thickness_o*1000))\n",
    "    text_base.append(\"\\nFuel tank thickness:          %5.3f mm\" % (thickness_f*1000))\n",
    "    \n",
    "    # Mass of each tank\n",
    "    m_tank_o = tank_mass(sim.l_o, Al, sim.r)\n",
    "    m_tank_f = tank_mass(sim.l_f, CF, sim.r)\n",
    "    \n",
    "    text_base.append(\"\\nOx tank mass: . . . . . . . . %5.3f kg\" % m_tank_o)\n",
    "    text_base.append(\"\\nFuel tank mass:               %5.3f kg\" % m_tank_f)\n",
    "    \n",
    "    \n",
    "    text_base.append('\\n')\n",
    "    text_base.append('\\nRELEVANT CONSTRAINTS')\n",
    "    text_base.append('\\n-----------------------------')\n",
    "    text_base.append('\\naltitude at apogee (c.f. > {})          = {:.3f} km'.format(\n",
    "                                                                                cons_alt/1000, sim.alt[-1]/1000))\n",
    "    text_base.append(\"\\nmax acceleration (c.f. < {})               = {:.3f} gs\".format(\n",
    "                                                                                cons_accel, sim.max_g_force))\n",
    "    text_base.append('\\nTWR at lift off (c.f. > {})                 = {:.3f}'.format(cons_TWR, sim.TWR))\n",
    "    text_base.append('\\nspeed when leaving launch rail (c.f. > {}) = {:.3f} m/s'.format(cons_ls,sim.launch_speed))\n",
    "    \n",
    "    with open('propellants/'+str(index)+'_info.txt', 'w') as info:\n",
    "        for line in text_base:\n",
    "            info.write(line)"
   ]
  },
  {
   "cell_type": "code",
   "execution_count": 5,
   "metadata": {},
   "outputs": [],
   "source": [
    "def load_csv(file_name):\n",
    "    designs = []\n",
    "    with open(file_name) as text:\n",
    "        csv_reader = csv.reader(text, delimiter=',')\n",
    "        counter = 0\n",
    "        for line in csv_reader:\n",
    "            if counter != 0:\n",
    "                designs.append(line)\n",
    "            counter += 1\n",
    "    return designs"
   ]
  },
  {
   "cell_type": "code",
   "execution_count": 6,
   "metadata": {},
   "outputs": [],
   "source": [
    "def run_batch():\n",
    "    designs = load_csv('propellants/propellants.csv')\n",
    "    for i, des in enumerate(designs):\n",
    "        run = test_run(float(des[0]), float(des[1]), float(des[2]),\n",
    "                       float(des[3]), float(des[4]), float(des[5]), des[6])\n",
    "        print_results(run, i)"
   ]
  },
  {
   "cell_type": "code",
   "execution_count": 7,
   "metadata": {},
   "outputs": [],
   "source": [
    "run_batch()"
   ]
  }
 ],
 "metadata": {
  "kernelspec": {
   "display_name": "Python 3",
   "language": "python",
   "name": "python3"
  },
  "language_info": {
   "codemirror_mode": {
    "name": "ipython",
    "version": 3
   },
   "file_extension": ".py",
   "mimetype": "text/x-python",
   "name": "python",
   "nbconvert_exporter": "python",
   "pygments_lexer": "ipython3",
   "version": "3.7.4"
  }
 },
 "nbformat": 4,
 "nbformat_minor": 2
}
