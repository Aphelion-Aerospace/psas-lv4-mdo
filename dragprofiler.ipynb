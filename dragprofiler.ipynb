{
 "cells": [
  {
   "cell_type": "markdown",
   "metadata": {},
   "source": [
    "This is just a helper script for taking a readout from openrocket of drag coefficients vs mach and trimming it down to be used by our python simulation."
   ]
  },
  {
   "cell_type": "code",
   "execution_count": 4,
   "metadata": {},
   "outputs": [],
   "source": [
    "delta = 0.1 # difference between interpolation steps\n",
    "lastone = 0.0\n",
    "flag = True\n",
    "with open('lv4drag.csv', 'w') as newfile:\n",
    "    with open('lv4raw.csv') as oldfile:\n",
    "        for line in oldfile:\n",
    "            if line[0] != '#':\n",
    "                nextone = float(line[:4])\n",
    "                if (nextone - lastone >= delta) or (flag and nextone <= delta):\n",
    "                    lastone = nextone\n",
    "                    newfile.write(line)\n",
    "                    flag = False\n",
    "            elif 'BURNOUT' in line:\n",
    "                break"
   ]
  },
  {
   "cell_type": "code",
   "execution_count": null,
   "metadata": {},
   "outputs": [],
   "source": []
  },
  {
   "cell_type": "code",
   "execution_count": null,
   "metadata": {},
   "outputs": [],
   "source": []
  }
 ],
 "metadata": {
  "kernelspec": {
   "display_name": "Python 3",
   "language": "python",
   "name": "python3"
  },
  "language_info": {
   "codemirror_mode": {
    "name": "ipython",
    "version": 3
   },
   "file_extension": ".py",
   "mimetype": "text/x-python",
   "name": "python",
   "nbconvert_exporter": "python",
   "pygments_lexer": "ipython3",
   "version": "3.6.8"
  }
 },
 "nbformat": 4,
 "nbformat_minor": 2
}
