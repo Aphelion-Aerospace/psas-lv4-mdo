{
 "cells": [
  {
   "cell_type": "markdown",
   "metadata": {},
   "source": [
    "## Fuel Tank FEA Analysis\n",
    "Ian Zabel, ibz@pdx.edu\n",
    "### Introduction\n",
    "The purpose of this analysis is to determine the failure criterea of the carbon fiber composite fuel tank walls. An Abaqus 6.14 model is developed assuming that the fuel tank is axisymmetric with some simplifications regarding the internals of the fuel tank. An initial model is developed and run, assuming there is no baffling or plumbing within the fuel tank, to ensure the composite definitions are sensible. A more advanced model is then developed that includes the internals expected to be present.\n",
    "### Assumptions and Theory\n",
    "To perform this analysis using a layered composite, the pressure vessel is assumed to be thin-walled. To apply this assumption, the wall thickness $t$ must be much smaller than a characteristic dimension $R$, in this case the vessel radius $r$. The simplifed pressure vessel is assumed to be axisymmetric, and the advanced model vessel is assumed to by symmetric about both the $x,z$ and $y,z$ planes."
   ]
  },
  {
   "cell_type": "code",
   "execution_count": 21,
   "metadata": {
    "collapsed": false
   },
   "outputs": [
    {
     "name": "stdout",
     "output_type": "stream",
     "text": [
      "\n",
      "\n",
      "FUEL TANK PARAMETERS\n",
      "--------------------\n",
      "Tank Volume, Ethanol = 1.0 m^3\n",
      "Tank volume, Lox     = 1.0 m^3\n",
      "Tank Length, Ethanol = 19.5 m\n",
      "Tank Length, Lox     = 19.5 m\n"
     ]
    }
   ],
   "source": [
    "import math as m\n",
    "import numpy as np\n",
    "import matplotlib\n",
    "import matplotlib.pyplot as plot\n",
    "import pylab\n",
    "%matplotlib inline\n",
    "\n",
    "# Ian Zabel\n",
    "# Note: Dimensions from LV4 MDO\n",
    "#       Atmo pressure from LV4 MDO\n",
    "\n",
    "# Dimensions\n",
    "\n",
    "Do   = 0.254   # Outer tank diameter     (m)\n",
    "Ro   = Do/2    # Outer tank radius       (m)\n",
    "L    = 1.2     # Overall tank length     (m)\n",
    "Lc   = L-4*Ro  # Cylindrical tank length (m)\n",
    "TW   = 10      # Thin-walled assumption\n",
    "t    = TW*Ro   # Wall thickness          (m)\n",
    "\n",
    "# Pressure\n",
    "# Note: Use either np.all() or np.any() for ineq. def\n",
    "\n",
    "def atmo(x):\n",
    "    if np.all(x < 11000):\n",
    "        T = 15.04-0.0065*x\n",
    "        P = 101.3*((T+273.1)/288.1)**5.26\n",
    "    elif np.all(11000 <= x) & np.all(x < 25000):\n",
    "        T = -56.46\n",
    "        P = 22.65*exp(1.73-0.00016*x) \n",
    "    else:\n",
    "        T = -131.2+0.003*x\n",
    "        P = 2.488*((T+273.1)/216.6)**(-11.4)\n",
    "\n",
    "    rho = P/(0.29*(T+273.1)) # Density, ambient air     (kg/m^3)\n",
    "    Pa  = P*1000             # Pressure, ambient air    (Pa)\n",
    "    Ta  = T+273.1            # Temperature, ambient air (K)\n",
    "    return Pa, rho, Ta\n",
    "\n",
    "x  = np.arange(0, 1e5, 1) # Altitude             (m)\n",
    "Pa = atmo(x)[0]           # Atmospheric pressure (Pa)\n",
    "Po = 50-Pa                # Pressure, lox, abs.  (Pa)\n",
    "Pf = 50-Pa                # Pressure, fuel, abs. (Pa)\n",
    "\n",
    "# Propellant Parameters\n",
    "# Note: Volume values TEMP\n",
    "\n",
    "OF   = 1.3   # Oxidizer to fuel ratio\n",
    "rhof = 852.3 # Density, ethanol fuel  (kg/m^3)\n",
    "rhoo = 1141  # Density, lox           (kg/m^3)\n",
    "Vo   = 1     # Required volume, lox   (m^3)\n",
    "Vf   = 1     # Required volume, fuel  (m^3)\n",
    "\n",
    "Endo = 2*(4/3)*m.pi*Ro**3 # End cap volume, lox   (m^3)\n",
    "Endf = 2*(4/3)*m.pi*Ro**3 # End cap volume, fuel  (m^3)\n",
    "RVLo = Vo-Endo            # Cylinder volume, lox  (m^3)\n",
    "RVLf = Vf-Endf            # Cylinder volume, fuel (m^3)\n",
    "Lcf  = RVLo/(m.pi*Ro**2)  # Cylinder length, lox  (m)\n",
    "Lco  = RVLf/(m.pi*Ro**2)  # Cylinder length, fuel (m)\n",
    "\n",
    "# Stress, Cylindrical Portion\n",
    "\n",
    "Sho = Po*Ro/t # Hoop stress, cylinder, ox    (Pa)\n",
    "Shf = Pf*Ro/t # Hoop stress, cylinder, fuel  (Pa)\n",
    "Sao = 0.5*Sho # Axial stress, cylinder, ox   (Pa)\n",
    "Saf = 0.5*Shf # Axial stress, cylinder, fuel (Pa)\n",
    "\n",
    "# Stress, Spherical Portion\n",
    "# Note: Static equilibrium, stress net resultant\n",
    "\n",
    "Sno = Sao # Stress, endcaps, Ox   (Pa)\n",
    "Snf = Saf # Stress, endcaps, Fuel (Pa)\n",
    "\n",
    "print('\\n')\n",
    "print('FUEL TANK PARAMETERS')\n",
    "print('--------------------')\n",
    "print('Tank Volume, Ethanol = {0:.1f} m^3'.format(Vf))\n",
    "print('Tank volume, Lox     = {0:.1f} m^3'.format(Vo))\n",
    "print('Tank Length, Ethanol = {0:.1f} m'.format(Lcf))\n",
    "print('Tank Length, Lox     = {0:.1f} m'.format(Lco))\n",
    "\n",
    "# Pressure Plots\n",
    "\n",
    "# pylab.rcParams['figure.figsize'] = (10, 10)"
   ]
  },
  {
   "cell_type": "code",
   "execution_count": null,
   "metadata": {
    "collapsed": true
   },
   "outputs": [],
   "source": []
  }
 ],
 "metadata": {
  "kernelspec": {
   "display_name": "Python 2",
   "language": "python",
   "name": "python2"
  },
  "language_info": {
   "codemirror_mode": {
    "name": "ipython",
    "version": 2
   },
   "file_extension": ".py",
   "mimetype": "text/x-python",
   "name": "python",
   "nbconvert_exporter": "python",
   "pygments_lexer": "ipython2",
   "version": "2.7.11"
  }
 },
 "nbformat": 4,
 "nbformat_minor": 0
}
