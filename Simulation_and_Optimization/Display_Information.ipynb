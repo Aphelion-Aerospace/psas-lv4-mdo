{
 "cells": [
  {
   "cell_type": "markdown",
   "metadata": {
    "nteract": {
     "transient": {
      "deleting": false
     }
    }
   },
   "source": [
    "The purpose of this code is to provide a single location for the various functions which only print text or images based on their input data. They are given a separate file because none of them are very interesting but they take up a lot of space on the screen."
   ]
  },
  {
   "cell_type": "code",
   "execution_count": null,
   "metadata": {
    "collapsed": true,
    "jupyter": {
     "outputs_hidden": false,
     "source_hidden": false
    },
    "nteract": {
     "transient": {
      "deleting": false
     }
    }
   },
   "outputs": [],
   "source": [
    "%run System_Definition.ipynb"
   ]
  },
  {
   "cell_type": "code",
   "execution_count": null,
   "metadata": {
    "collapsed": true,
    "jupyter": {
     "outputs_hidden": false,
     "source_hidden": false
    },
    "nteract": {
     "transient": {
      "deleting": false
     }
    }
   },
   "outputs": [],
   "source": [
    "# this creates a list of strings for relevant data of trajectory\n",
    "# arranging in sensible order is low priority. there might be more information to extract also.\n",
    "# maybe get input from on high about most relevant info and how to organize it nicely\n",
    "def print_results(sim, save):\n",
    "    text_base = []\n",
    "    text_base.append('\\nDESIGN VECTOR')\n",
    "    text_base.append('\\n-----------------------------')\n",
    "    text_base.append('\\ndesign total propellant mass               = {:.3f} kg'.format(sim.m_prop[0]))\n",
    "    text_base.append('\\ndesign mass flow rate                      = {:.3f} kg/s'.format(sim.LV4.engine.mdot))\n",
    "    text_base.append('\\ndesign nozzle exit pressure                = {:.3f} Pa'.format(sim.LV4.engine.p_e))\n",
    "    text_base.append('\\ntotal tankage length (after adjustment)    = {:.3f} m'.format(sim.LV4.l_o + sim.LV4.l_f))\n",
    "    text_base.append('\\ndesign airframe diameter                   = {:.3f} m.'.format(sim.LV4.diameter))\n",
    "    text_base.append('\\ndesign airframe total length               = {:.3f} m.'.format(sim.LV4.length))\n",
    "    text_base.append('\\ndesign GLOW                                = {:.3f} kg'.format(sim.LV4.GLOW))\n",
    "    text_base.append('\\ndesign ballast mass                        = {:.3f} kg'.format(sim.LV4.ballast))\n",
    "    text_base.append('\\ndesign fin root chord                      = {:.3f} m'.format(sim.LV4.fin.root))\n",
    "    text_base.append('\\ndesign fin tip chord                       = {:.3f} m'.format(sim.LV4.fin.tip))\n",
    "    text_base.append('\\ndesign fin sweep angle                     = {:.3f} deg'.format(np.degrees(sim.LV4.fin.sweep_angle)))\n",
    "    text_base.append('\\ndesign fin span                            = {:.3f} m'.format(sim.LV4.fin.semispan))\n",
    "    text_base.append('\\ndesign fin thickness                       = {:.3f} mm'.format(sim.LV4.fin.thickness*1000))\n",
    "    \n",
    "    text_base.append('\\n')\n",
    "    text_base.append('\\nCONSTRAINTS')\n",
    "    text_base.append('\\n-----------------------------')\n",
    "    text_base.append('\\nLargest angle of attack (c.f. < {})         = {:.3f} deg'.format(\n",
    "                                                                            CONS_AOA, sim.tip_off_aoa))\n",
    "    text_base.append('\\nL/D ratio (c.f. < {})                       = {:.3f}'.format(\n",
    "                                                                            CONS_LD, sim.ld_ratio))\n",
    "    text_base.append('\\nfin flutter ratio (c.f. > {})                       = {:.3f}'.format(\n",
    "                                                                            1.0, sim.min_fin_flutter))\n",
    "    text_base.append('\\nSommerfield criterion (c.f. pe/pa >= {})    = {:.3f}'.format(CONS_S_CRIT, sim.S_crit))\n",
    "    text_base.append(\"\\nmax acceleration (c.f. < {})                = {:.3f} gs\".format(\n",
    "                                                                                CONS_ACCEL, sim.max_g_force))\n",
    "    text_base.append('\\nTWR at lift off (c.f. > {})                 = {:.3f}'.format(CONS_TWR, sim.TWR))\n",
    "    text_base.append('\\nLowest stability margin caliber (c.f. > {}) = {:.3f}'.format(CONS_STBLTY, sim.min_stability))\n",
    "    text_base.append('\\nspeed when leaving launch rail (c.f. > {})  = {:.3f} m/s'.format(CONS_LS, sim.launch_speed))\n",
    "    text_base.append('\\naltitude at apogee (c.f. > {})              = {:.3f} km'.format(\n",
    "                                                                                CONS_ALT/1000, sim.apogee/1000))\n",
    "    text_base.append('\\ndesign thrust (ground level) (c.f. < {})    = {:.3f} kN'.format(CONS_THRUST,\n",
    "                                                                                        np.linalg.norm(sim.thrust[0])/1000))\n",
    "\n",
    "    text_base.append('\\n')\n",
    "    text_base.append('\\nADDITIONAL INFORMATION')\n",
    "    text_base.append('\\n-----------------------------')\n",
    "    text_base.append(\"\\nstarted at (lat, long, height): \" + str(sim.env.ECEF_to_geodetic(sim.raw_states[0][0][1])))\n",
    "    text_base.append(\"landed at (lat, long, height): \" + str(sim.env.ECEF_to_geodetic(sim.raw_states[-1][0][1])))\n",
    "    text_base.append('\\ndesign thrust (vacuum)                     = {:.2f} kN'.format(np.linalg.norm(sim.thrust[sim.F_index])/1000))\n",
    "    text_base.append('\\ndesign total dry mass                      = {:.3f} kg'.format(sim.m[-1]))\n",
    "    text_base.append('\\nmission time at landing                    = {:.3f} s'.format(sim.t[-1]))\n",
    "    text_base.append('\\nmission time at apogee                     = {:.3f} s'.format(sim.t[sim.ap_index]))\n",
    "    text_base.append('\\nmission time at burnout                    = {:.3f} s'.format(sim.t[sim.F_index]))\n",
    "    text_base.append('\\nmax dynamic pressure                       = {:.3f} Pa'.format(sim.maxq))\n",
    "    text_base.append('\\ndesign dV                                  = {:.3f} km/s'.format(sim.dV1))\n",
    "    text_base.append('\\nestimated minimum required dV              = {:.3f} km/s'.format(\n",
    "                                                                                    sqrt(2*G_N*sim.alt[sim.ap_index])/1000))\n",
    "    \n",
    "    text_base.append(\"\\n\")\n",
    "    text_base.append(\"\\nENGINE SYSTEM DETAILS\")\n",
    "    text_base.append(\"\\n-----------------------------\")\n",
    "    mdot_o, mdot_f = proportion(sim.LV4.engine.mdot, sim.LV4.OF)\n",
    "    text_base.append(\"\\nOx flow:                                   = {:.3f} kg/s\".format(mdot_o))\n",
    "    text_base.append(\"\\nFuel flow:                                 = {:.3f} kg/s\".format(mdot_f))\n",
    "    text_base.append(\"\\nOx mass:                                   = {:.3f} kg\".format(sim.LV4.m_o))\n",
    "    text_base.append(\"\\nFuel mass:                                 = {:.3f} kg\".format(sim.LV4.m_f))\n",
    "    text_base.append(\"\\nOx tank length + ullage:                   = {:.3f} m\".format(sim.LV4.l_o))\n",
    "    text_base.append(\"\\nFuel tank length + ullage:                 = {:.3f} m\".format(sim.LV4.l_f))\n",
    "    text_base.append('\\ndesign chamber pressure                    = {:.3f} Pa'.format(sim.LV4.engine.p_ch))\n",
    "    text_base.append('\\ndesign expansion ratio                     = {:.3f}'.format(sim.LV4.engine.ex))\n",
    "    text_base.append('\\ndesign Exit area                           = {:.3f} cm^2'.format(sim.LV4.engine.A_e*10e3))\n",
    "    text_base.append('\\ndesign throat area                         = {:.3f} cm^2'.format(sim.LV4.engine.A_t*10e3))\n",
    "    text_base.append('\\ndesign Throat pressure                     = {:.3f} Pa'.format(sim.LV4.engine.p_t))\n",
    "    text_base.append('\\ndesign Throat temperature                  = {:.3f} K'.format(sim.LV4.engine.T_t))\n",
    "    text_base.append('\\ndesign Chamber temperature                 = {:.3f} K'.format(sim.LV4.engine.T_ch))\n",
    "    text_base.append('\\ndesign exit velocity                       = {:.3f} m/s'.format(sim.LV4.engine.Ve))\n",
    "    text_base.append('\\ndesign isp                                 = {:.3f} s'.format(sim.LV4.engine.Ve/G_N))\n",
    "    text_base.append('\\ndesign average impulse                     = {:.3f} kN*s'.format(\n",
    "                                                  sim.t[sim.F_index] * np.linalg.norm((sim.thrust[sim.F_index] +\n",
    "                                                                                     sim.thrust[0] / 2)) / 1000))\n",
    "    \n",
    "    sim.LV4.read_out()\n",
    "    text_base.append('\\n')\n",
    "    text_base.append('\\nPOST-FLIGHT MASS BUDGET')\n",
    "    text_base.append('\\n-----------------------------\\n')\n",
    "    for line in sim.LV4.description:\n",
    "        text_base.append(line)\n",
    "        \n",
    "    if save:\n",
    "        # create a file with all this info in it\n",
    "        with open(rkt_prefix + 'psas_rocket_' + str(get_index()) + '_traj.txt', 'w') as traj:\n",
    "            for line in text_base:\n",
    "                traj.write(line)\n",
    "        \n",
    "    return text_base"
   ]
  },
  {
   "cell_type": "code",
   "execution_count": null,
   "metadata": {
    "collapsed": true,
    "jupyter": {
     "outputs_hidden": false,
     "source_hidden": false
    },
    "nteract": {
     "transient": {
      "deleting": false
     }
    }
   },
   "outputs": [],
   "source": [
    "# this creates a nice set of plots of our trajectory data and saves it to rocket_farm\n",
    "def rocket_plot(t, alt, v, a, F, q, Ma, m, p_a, D, throttle, fin_v, sim, save, start, end):\n",
    "    pylab.rcParams['figure.figsize'] = (20.0, 20.0)\n",
    "    \n",
    "    fig1 = plt.figure(1)\n",
    "    ax = fig1.add_subplot(111, projection='3d')\n",
    "    xyz = [state[0][1] for state in sim.raw_states[start:end]]\n",
    "    x, y, z = [state[0] for state in xyz], [state[1] for state in xyz], [state[2] for state in xyz]\n",
    "    ax.plot(x, y, z)\n",
    "    ax.grid()\n",
    "    plt.title('Trajectory')\n",
    "    plt.show()\n",
    "    \n",
    "    #fig, (ax1, ax2, ax3, ax4, ax5, ax6, ax7, ax8, ax9, ax10) = plt.subplots(10, sharex=True)\n",
    "    fig, (ax1, ax2, ax3, ax4, ax5, ax6, ax8, ax9) = plt.subplots(8, sharex=True)\n",
    "    \n",
    "    #for n in (ax1, ax2, ax3, ax4, ax5, ax6, ax7, ax8, ax9, ax10):\n",
    "        #n.spines['top'].set_visible(False)\n",
    "        #n.spines['right'].set_visible(False)\n",
    "        #n.yaxis.set_ticks_position('left')\n",
    "        #n.xaxis.set_ticks_position('bottom')\n",
    "        #n.yaxis.labelpad = 40\n",
    "        \n",
    "    ax1.plot(t[start:end], alt[start:end]/1000, 'k')\n",
    "    ax1.set_ylabel(\"Altitude (km)\")\n",
    "    ax1.yaxis.major.locator.set_params(nbins=10)\n",
    "    ax1.set_title('LV4 Trajectory')\n",
    "    \n",
    "    ax2.plot(t[start:end], v[start:end], 'k')\n",
    "    ax2.yaxis.major.locator.set_params(nbins=10)\n",
    "    ax2.set_ylabel(\"Velocity (m/s)\")\n",
    "    \n",
    "    ax3.plot(t[start:end], a[start:end]/G_N, 'k')\n",
    "    ax3.yaxis.major.locator.set_params(nbins=10)\n",
    "    ax3.set_ylabel(\"Acceleration/g_n\")\n",
    "    \n",
    "    ax4.plot(t[start:end], F[start:end]/1000, 'k')\n",
    "    ax4.yaxis.major.locator.set_params(nbins=10)\n",
    "    ax4.set_ylabel(\"Thrust (kN)\")\n",
    "    \n",
    "    ax5.plot(t[start:end], q[start:end]/1000, 'k')\n",
    "    ax5.yaxis.major.locator.set_params(nbins=10)\n",
    "    ax5.set_ylabel(\"Dynamic Pressure (kPa)\")\n",
    "    \n",
    "    ax6.plot(t[start:end], Ma[start:end], 'k')\n",
    "    ax6.yaxis.major.locator.set_params(nbins=10) \n",
    "    ax6.set_ylabel(\"Mach number\")\n",
    "    ax6.set_xlabel(\"t (s)\")\n",
    "    \n",
    "    #ax7.plot(t, np.array(m)*0.666*np.array(a), 'k')\n",
    "    #ax7.plot(t[start:end], fin_v[start:end], 'k')\n",
    "    #ax7.yaxis.major.locator.set_params(nbins=8) \n",
    "    #ax7.set_ylabel(\"Fin Flutter Ratio\")\n",
    "    #ax7.set_ylabel(\"LOX Tank Axial Load\")\n",
    "    #ax7.set_xlabel(\"t (s)\")\n",
    "    \n",
    "    ax8.plot(t[start:end], D[start:end], 'k')\n",
    "    ax8.yaxis.major.locator.set_params(nbins=10)\n",
    "    ax8.set_ylabel(\"Drag (N)\")\n",
    "    \n",
    "    ax9.plot(t[start:end], p_a[start:end]/1000, 'k')\n",
    "    ax9.yaxis.major.locator.set_params(nbins=8)\n",
    "    ax9.set_ylabel(\"Air Pressure (kPa)\")\n",
    "    \n",
    "    #ax10.plot(t[start:end], throttle[start:end], 'k')\n",
    "    #ax10.yaxis.major.locator.set_params(nbins=5)\n",
    "    #ax10.set_ylabel(\"Throttle (%)\")\n",
    "    \n",
    "    # we save the nice figures we make and then display them\n",
    "    if save:\n",
    "        plt.savefig(rkt_prefix + 'psas_rocket_' + str(get_index()) + '_traj.svg')\n",
    "    plt.show()"
   ]
  },
  {
   "cell_type": "code",
   "execution_count": null,
   "metadata": {
    "collapsed": true,
    "jupyter": {
     "outputs_hidden": false,
     "source_hidden": false
    },
    "nteract": {
     "transient": {
      "deleting": false
     }
    }
   },
   "outputs": [],
   "source": [
    "# this function plots the data from the basic structural analysis. at some point, would be nice to put an image of the rocket in too for reference.\n",
    "def structural_plot(rkt):\n",
    "    elevation_top = np.array([part.coords[2] + part.length for part in reversed(rkt.parts)])\n",
    "    \n",
    "    ax_load_at_top, lat_load_at_top, bending_moments = rkt.loads_at_launch\n",
    "    \n",
    "    fig, (ax1, ax2, ax3) = plt.subplots(3, sharex=True)\n",
    "    ax1.set_title('Loads at Tip-Off')\n",
    "    ax1.plot(elevation_top, ax_load_at_top, 'k')\n",
    "    ax1.set_ylabel(\"Axial Load (N)\")\n",
    "    ax1.yaxis.major.locator.set_params(nbins=12)\n",
    "    ax2.plot(elevation_top, lat_load_at_top, 'k')\n",
    "    ax2.set_ylabel(\"Lateral Load (N)\")\n",
    "    ax2.yaxis.major.locator.set_params(nbins=12)\n",
    "    ax3.plot(elevation_top, bending_moments, 'k')\n",
    "    ax3.set_ylabel(\"Bending Moment (N m)\")\n",
    "    ax3.yaxis.major.locator.set_params(nbins=12)\n",
    "    ax3.set_xlabel(\"Elevation, Top (m)\")\n",
    "    ax3.xaxis.major.locator.set_params(nbins=16)\n",
    "    plt.show()\n",
    "    \n",
    "    ax_load_at_top, lat_load_at_top, bending_moments = rkt.loads_at_max_q\n",
    "    \n",
    "    fig, (ax1, ax2, ax3) = plt.subplots(3, sharex=True)\n",
    "    ax1.set_title('Loads at Max-Q')\n",
    "    ax1.plot(elevation_top, ax_load_at_top, 'k')\n",
    "    ax1.set_ylabel(\"Axial Load (N)\")\n",
    "    ax1.yaxis.major.locator.set_params(nbins=12)\n",
    "    ax2.plot(elevation_top, lat_load_at_top, 'k')\n",
    "    ax2.set_ylabel(\"Lateral Load (N)\")\n",
    "    ax2.yaxis.major.locator.set_params(nbins=12)\n",
    "    ax3.plot(elevation_top, bending_moments, 'k')\n",
    "    ax3.set_ylabel(\"Bending Moment (N m)\")\n",
    "    ax3.yaxis.major.locator.set_params(nbins=12)\n",
    "    ax3.set_xlabel(\"Elevation, Top (m)\")\n",
    "    ax3.xaxis.major.locator.set_params(nbins=16)\n",
    "    plt.show()\n",
    "    "
   ]
  },
  {
   "cell_type": "code",
   "execution_count": null,
   "metadata": {
    "collapsed": true,
    "jupyter": {
     "outputs_hidden": false,
     "source_hidden": false
    },
    "nteract": {
     "transient": {
      "deleting": false
     }
    }
   },
   "outputs": [],
   "source": [
    "# this creates some plots of the phase spaces of all our designs, doesn't save them\n",
    "def phase_plot(m_prop, mdot_0, p_e):\n",
    "    fig, (ax1, ax2, ax3) = plt.subplots(3, sharex=True)\n",
    "    \n",
    "    ax1.plot(m_prop, p_e)\n",
    "    ax1.set_title('Design Vectors')\n",
    "    ax1.yaxis.major.locator.set_params(nbins=6)\n",
    "    ax1.set_xlabel(\"Propellant (kg)\")\n",
    "    ax1.set_ylabel(\"Exit pressure (kPa)\")\n",
    "    \n",
    "    ax2.plot(mdot_0, p_e)\n",
    "    ax2.yaxis.major.locator.set_params(nbins=6)\n",
    "    ax2.set_xlabel(\"Mass flow rate (kg/s)\")\n",
    "    ax2.set_ylabel(\"Exit pressure (kPa)\")\n",
    "    \n",
    "    ax3.plot(m_prop, mdot_0)\n",
    "    ax3.yaxis.major.locator.set_params(nbins=6)\n",
    "    ax3.set_ylabel(\"Mass flow rate (kg/s)\")\n",
    "    ax3.set_xlabel(\"Propellant (kg)\")\n",
    "    \n",
    "    # we display the first diagram of projected 2d phase portraits\n",
    "    plt.show()\n",
    "    \n",
    "    fig2 = plt.figure()\n",
    "    ax = fig2.add_subplot(111, projection='3d')\n",
    "    ax.set_title('Design Space Trajectory')\n",
    "    ax.plot(m_prop, mdot_0, p_e)\n",
    "    ax.set_xlabel(\"Propellant (kg)\")\n",
    "    ax.set_ylabel(\"Mass flow rate (kg/s)\")\n",
    "    ax.set_zlabel(\"Exit pressure (kPa)\")\n",
    "    \n",
    "    # we display the interactive 3d phase portrait\n",
    "    plt.show()\n",
    "    # note, we're choosing to not automatically save these, but they can be saved from the interface\n",
    "    fig3 = plt.figure()\n",
    "    ax = fig3.add_subplot(111)\n",
    "    ax.set_title('Design Values as % of optimum design value')\n",
    "    ax.plot(m_prop/(m_prop[-1]), \"r\", label=\"m_prop\")\n",
    "    ax.plot(mdot_0/(mdot_0[-1]), \"g\", label=\"mdot_0\")\n",
    "    ax.plot(p_e/(p_e[-1]), \"b\", label=\"p_e\")\n",
    "    ax.legend()\n",
    "    plt.show()\n",
    "\n",
    "# this function makes some nice plots of the phase space of design vectors\n",
    "def design_grapher(allvectors): # no arguments because I'm using dirty dirty global variables\n",
    "    fig = plt.figure()\n",
    "    ax = fig.add_subplot(111)\n",
    "    ax.set_title('Objective + Constraint convergence')\n",
    "    ax.plot(allobjfun, \"r\", label=\"Objective Function Evaluations (Logarithmic Scale)\")\n",
    "    ax.legend()\n",
    "    plt.show()\n",
    "    \n",
    "    if len(allvectors[0]) == 2:\n",
    "        fig = plt.figure()\n",
    "        ax = fig.add_subplot(111)\n",
    "        ax.set_title('Design space')\n",
    "        ax.plot([v[0] for v in allvectors], [v[1] for v in allvectors])\n",
    "        ax.legend()\n",
    "        plt.show()\n",
    "    else:\n",
    "        designplot = [[],[],[]]\n",
    "        for i in range(0, len(allvectors)):\n",
    "            for j in range(0, len(designplot)):\n",
    "                designplot[j].append(allvectors[i][j])\n",
    "        phase_plot(designplot[0], designplot[1], designplot[2])\n"
   ]
  }
 ],
 "metadata": {
  "kernelspec": {
   "display_name": "Python 3",
   "language": "python",
   "name": "python3"
  },
  "language_info": {
   "codemirror_mode": {
    "name": "ipython",
    "version": 3
   },
   "file_extension": ".py",
   "mimetype": "text/x-python",
   "name": "python",
   "nbconvert_exporter": "python",
   "pygments_lexer": "ipython3",
   "version": "3.7.4"
  }
 },
 "nbformat": 4,
 "nbformat_minor": 1
}
