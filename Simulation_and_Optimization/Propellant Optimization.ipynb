{
 "cells": [
  {
   "cell_type": "code",
   "execution_count": 1,
   "metadata": {},
   "outputs": [],
   "source": [
    "from rocketcea.cea_obj_w_units import CEA_Obj\n",
    "from rocketcea.cea_obj import add_new_fuel\n",
    "from scipy.optimize import minimize\n",
    "import numpy as np"
   ]
  },
  {
   "cell_type": "code",
   "execution_count": 2,
   "metadata": {},
   "outputs": [],
   "source": [
    "allvectors = []               # array for all design vecs, global variable\n",
    "allobjfun = []                # array for tracking objective function evaluations"
   ]
  },
  {
   "cell_type": "code",
   "execution_count": 3,
   "metadata": {},
   "outputs": [],
   "source": [
    "def objective(var, cons):\n",
    "    return (var/cons)**2 / 2\n",
    "def exterior(var, cons, good_if_less_than=False):\n",
    "    if good_if_less_than:\n",
    "        return np.max([0, var/cons - 1])**2 / 2\n",
    "    else:\n",
    "        return np.max([0, -(var/cons - 1)])**2 / 2"
   ]
  },
  {
   "cell_type": "code",
   "execution_count": 18,
   "metadata": {},
   "outputs": [],
   "source": [
    "def get_propellant_properties(ipa_wt, of_ratio, p_ch, exp_ratio):\n",
    "    ipa_wt = min(ipa_wt, 100)\n",
    "    card_str = '''\n",
    "    fuel C3H8O-2propanol C 3 H 8 O 1    wt%=''' + str(ipa_wt) + '''\n",
    "    h,cal=-65133.     t(k)=298.15   rho,g/cc=0.786\n",
    "    fuel water H 2 O 1  wt%=''' + str(100 - ipa_wt) + '''\n",
    "    h,cal=-68308.  t(k)=298.15 rho,g/cc=0.9998\n",
    "    '''\n",
    "    add_new_fuel('LV4_Fuel', card_str)\n",
    "    PROPELLANT = CEA_Obj(oxName='LOX', fuelName='LV4_Fuel',\n",
    "                        pressure_units='Pa', temperature_units='K', cstar_units='m/s',\n",
    "                         density_units='kg/m^3', isp_units='sec', specific_heat_units='J/kg-K')\n",
    "    isp = PROPELLANT.get_Isp(Pc=p_ch, MR=of_ratio, eps=exp_ratio)\n",
    "    IspVac, Cstar, Tc, MW, gamma = PROPELLANT.get_IvacCstrTc_ChmMwGam(Pc=p_ch, MR=of_ratio, eps=exp_ratio)\n",
    "    return [isp, IspVac, Cstar, Tc, MW, gamma]\n",
    "\n",
    "def cost(x):\n",
    "    ipa_wt, of_ratio, p_ch, exp_ratio = x\n",
    "    isp, IspVac, Cstar, Tc, MW, gamma = get_propellant_properties(ipa_wt, of_ratio, p_ch, exp_ratio)\n",
    "    \n",
    "    merit = -objective(IspVac, 230) + exterior(p_ch, 3.447e6, True) + exterior(exp_ratio, 10, True)\n",
    "    return merit\n",
    "\n",
    "def opt(x0):\n",
    "    res = minimize(cost, x0, method='nelder-mead', options={'disp': True, 'adaptive':True, 'xatol': 0.01, 'fatol': 0.01})\n",
    "    x = res.x # feed optimal design vec into next iteration\n",
    "    return x\n",
    "\n",
    "def run():\n",
    "    x = opt([64.8, 1.3, 2413166, 5.988])\n",
    "    #x = [64.8, 1.3, 2413166, 5.988]\n",
    "    ipa_wt, of_ratio, p_ch, exp_ratio = x\n",
    "    ipa_wt = min(ipa_wt, 100)\n",
    "    isp, IspVac, Cstar, Tc, MW, gamma = get_propellant_properties(ipa_wt, of_ratio, p_ch, exp_ratio)\n",
    "    print('IPA Wt %: ', ipa_wt)\n",
    "    print('OF: ', of_ratio)\n",
    "    print('P_ch (Pa): ', p_ch)\n",
    "    print('Expansion ratio: ', exp_ratio)\n",
    "    print()\n",
    "    print('Vacuum ISP (s): ', IspVac)\n",
    "    print('Chamber Temp (K): ', Tc)\n",
    "    print('Molar Wt (1/n): ', MW)\n",
    "    print('Spec Heat: ', gamma)\n",
    "    return x\n",
    "    "
   ]
  },
  {
   "cell_type": "code",
   "execution_count": 19,
   "metadata": {},
   "outputs": [
    {
     "name": "stdout",
     "output_type": "stream",
     "text": [
      "reading cea isp data files for LOX / LV4_Fuel 100 times\n",
      "reading cea isp data files for LOX / LV4_Fuel 200 times\n",
      "reading cea isp data files for LOX / LV4_Fuel 300 times\n",
      "reading cea isp data files for LOX / LV4_Fuel 400 times\n",
      "reading cea isp data files for LOX / LV4_Fuel 500 times\n",
      "Optimization terminated successfully.\n",
      "         Current function value: -0.976021\n",
      "         Iterations: 231\n",
      "         Function evaluations: 502\n",
      "IPA Wt %:  100\n",
      "OF:  1.8999541338024426\n",
      "P_ch (Pa):  3492585.6485239915\n",
      "Expansion ratio:  11.373070500199981\n",
      "\n",
      "Vacuum ISP (s):  322.9080380872478\n",
      "Chamber Temp (K):  3427.294809755733\n",
      "Molar Wt (1/n):  23.10157522662069\n",
      "Spec Heat:  1.128944232888362\n"
     ]
    },
    {
     "data": {
      "text/plain": [
       "array([1.08775356e+02, 1.89995413e+00, 3.49258565e+06, 1.13730705e+01])"
      ]
     },
     "execution_count": 19,
     "metadata": {},
     "output_type": "execute_result"
    }
   ],
   "source": [
    "run()"
   ]
  },
  {
   "cell_type": "code",
   "execution_count": null,
   "metadata": {},
   "outputs": [],
   "source": []
  }
 ],
 "metadata": {
  "kernelspec": {
   "display_name": "Python 3",
   "language": "python",
   "name": "python3"
  },
  "language_info": {
   "codemirror_mode": {
    "name": "ipython",
    "version": 3
   },
   "file_extension": ".py",
   "mimetype": "text/x-python",
   "name": "python",
   "nbconvert_exporter": "python",
   "pygments_lexer": "ipython3",
   "version": "3.7.4"
  }
 },
 "nbformat": 4,
 "nbformat_minor": 2
}
