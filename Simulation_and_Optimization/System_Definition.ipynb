{
 "cells": [
  {
   "cell_type": "code",
   "execution_count": 1,
   "metadata": {
    "jupyter": {
     "outputs_hidden": false,
     "source_hidden": false
    },
    "nteract": {
     "transient": {
      "deleting": false
     }
    }
   },
   "outputs": [
    {
     "name": "stderr",
     "output_type": "stream",
     "text": [
      "/home/cory/anaconda3/lib/python3.7/site-packages/statsmodels/tools/_testing.py:19: FutureWarning: pandas.util.testing is deprecated. Use the functions in the public API at pandas.testing instead.\n",
      "  import pandas.util.testing as tm\n"
     ]
    }
   ],
   "source": [
    "#openrocket_interface imports\n",
    "from math import pi, log, sqrt, exp, cos, sin, radians\n",
    "import os\n",
    "from sys import platform as _platform\n",
    "import xml.etree.ElementTree as ET # xml library\n",
    "from zipfile import ZipFile\n",
    "\n",
    "#trajectory imports\n",
    "from types import SimpleNamespace\n",
    "import numpy as np\n",
    "import math\n",
    "import csv\n",
    "import copy\n",
    "from datetime import datetime\n",
    "import nrlmsise00, pyhwm2014\n",
    "\n",
    "#optimizer imports\n",
    "from scipy.optimize import minimize, differential_evolution\n",
    "import pylab\n",
    "import matplotlib\n",
    "import matplotlib.pyplot as plt\n",
    "from mpl_toolkits.mplot3d import Axes3D\n",
    "from matplotlib import rc\n",
    "\n",
    "%run Propellant_Optimization.ipynb\n",
    "global PROPELLANT_SET\n",
    "\n",
    "np.set_printoptions(precision=3) # this line may be deprecated"
   ]
  },
  {
   "cell_type": "markdown",
   "metadata": {
    "nteract": {
     "transient": {
      "deleting": false
     }
    }
   },
   "source": [
    "The purpose of this file is to gather all input variables, design parameters, and actual constants in one place. Many of these remain constant from revision to revision, and usually a change to one of these entails another round of optimization and a new canonical description. In tandem with a canonical description, this file should unambiguously define LV4 to a sufficient level of precision for actual engineering work to be done.\n",
    "\n",
    "The other programs in this folder then have access to all the same information without us having to pass copious amounts of parameters around. Additionally, all of our required imports can be centralized here. There are also some functions defined here which are of use to multiple programs.\n"
   ]
  },
  {
   "cell_type": "code",
   "execution_count": 2,
   "metadata": {
    "jupyter": {
     "outputs_hidden": false,
     "source_hidden": false
    },
    "nteract": {
     "transient": {
      "deleting": false
     }
    }
   },
   "outputs": [
    {
     "name": "stdout",
     "output_type": "stream",
     "text": [
      "reading cea isp data files for LOX / LV4_Fuel 100 times\n",
      "reading cea isp data files for LOX / LV4_Fuel 200 times\n",
      "reading cea isp data files for LOX / LV4_Fuel 300 times\n",
      "Optimization terminated successfully.\n",
      "         Current function value: -0.779160\n",
      "         Iterations: 182\n",
      "         Function evaluations: 391\n",
      "Alcohol Wt %:  64.8\n",
      "OF ratio:  1.3846692240985337\n",
      "P_ch (Pa):  2413666.298058278\n",
      "Expansion ratio:  6.007040500102594\n",
      "\n",
      "Vacuum ISP (s):  287.1619484205367\n",
      "Chamber Temp (K):  3106.1230925802856\n",
      "Molar Wt (1/n):  23.725017448089833\n",
      "Spec Heat:  1.1214413773331058\n"
     ]
    }
   ],
   "source": [
    "# Physics, chemistry, and materials\n",
    "G_N      = 9.80665  # kg.m/s^2     Standard gravity\n",
    "R_UNIV   = 8314.46261815324 # universal gas constant, J/ (K * kmol)\n",
    "M_PER_IN = 0.0254 # meters per inch\n",
    "\n",
    "\n",
    "def Material(name, rho, mm=None, mu=None, Sy=None):\n",
    "    return { 'name': name,\n",
    "             'rho': rho, # kg/m^3       Density\n",
    "             'mu': mu, # Ns/m^2 Dynamic Viscosity\n",
    "             'mm': mm, # g/mol Molar Mass\n",
    "             'Sy': Sy} # Pa           Yield strength\n",
    "\n",
    "# Materials\n",
    "# https://www.aircraftspruce.com/catalog/cmpages/anh4120honeycomb01-01574.php?clickkey=5444217\n",
    "# note: i've calculated ~395 kg/m^3 for uniform airframe density based on our density/thickness estimates.\n",
    "#       however, measurement of LV3.1 module says module is around 130 kg/m^3. Not sure why these don't agree.\n",
    "NOMEX      = Material('Nomex', 48.06)\n",
    "CRYOGEL    = Material('Cryogel', 160)\n",
    "FIBERGLASS = Material('Fiberglass', 1850)\n",
    "ALUM       = Material('Aluminum', 2800.0, Sy=0.270e9)\n",
    "CFIBER     = Material('Carbon Fiber', 1550.0, Sy=0.450e9)\n",
    "LOX        = Material('LOX', 1141.0, mu=0.000009) # kg/m^3  Density of LOX\n",
    "#IPA        = Material('IPA/H20', 849.28) # kg/m^3  Density of 64.8% IPA / 35.2% H20\n",
    "IPA        = Material('IPA', 786) # kg/m^3  Density of 64.8% IPA / 35.2% H20\n",
    "H20        = Material('H20', 999.8) # kg/m^3  Density of 64.8% IPA / 35.2% H20\n",
    "FUEL       = Material('IPA/H20', 0.648* IPA['rho'] + 0.352 * H20['rho'],\n",
    "                     mu=0.00192) # kg/m^3  Density of 64.8% IPA / 35.2% H20\n",
    "\n",
    "# Nitrogen characteristics\n",
    "# https://github.com/psas/reaction-control/blob/master/pubs/AIAA%20RCS%20Manuscript_FINAL2.pdf\n",
    "N2_TEMP = 298.15 # K, holding this constant is sketchy but easy\n",
    "N2_MM   = 28.01 # nitrogen molecular mass [g/mol]\n",
    "N2_KE   = 1.4 # nitrogen specific heat ratio\n",
    "\n",
    "MANUAL_PROP_CALCS = False\n",
    "if not PROPELLANT_SET:\n",
    "    if MANUAL_PROP_CALCS:\n",
    "        # combustion gas properties ke, Re, T_ch, determined from CEArun\n",
    "        # with chamber pressure=350 psi, fuel temp=419.15 K, \n",
    "        #      lox temp=90 K, OF=1.3 for fuel = 64.8% IPA (2propanol) / 35.2% H20\n",
    "        OF       = 1.3        # O/F ratio, this is somewhat arbitrary but CEA says its good. \n",
    "        ENG_P_CH = 2413166 # chamber pressure, PSI\n",
    "        ENG_T_CH = 3097.82 # chamber temperature, K\n",
    "        ENG_KE   = 1.1251 # specific heat ratio, propellant (aka gammas)\n",
    "        ENG_MM   = 23.196 # molar mass\n",
    "    else:\n",
    "        ipa_wt, OF, ENG_P_CH, ENG_T_CH, ENG_MM, ENG_KE = prop_run()\n",
    "        FUEL       = Material('IPA/H20', ipa_wt/100* IPA['rho'] + (100 - ipa_wt)/100 * H20['rho'],\n",
    "                             mu=0.00192) # kg/m^3  Density of 64.8% IPA / 35.2% H20"
   ]
  },
  {
   "cell_type": "code",
   "execution_count": 3,
   "metadata": {
    "jupyter": {
     "outputs_hidden": false,
     "source_hidden": false
    },
    "nteract": {
     "transient": {
      "deleting": false
     }
    }
   },
   "outputs": [],
   "source": [
    "# Launch constants\n",
    "LAUNCH_SITE_ALT = 1401 # m, altitude of launch site above sea level\n",
    "LAUNCH_TOWER    = 18.288 # launch rail height in m\n",
    "LAUNCH_SITE_LOC = [32.9895472, -106.9694681] # dec deg N, E"
   ]
  },
  {
   "cell_type": "code",
   "execution_count": 4,
   "metadata": {
    "jupyter": {
     "outputs_hidden": false,
     "source_hidden": false
    },
    "nteract": {
     "transient": {
      "deleting": false
     }
    }
   },
   "outputs": [],
   "source": [
    "# System Definition\n",
    "\n",
    "# Rocket parameters\n",
    "AIRFRM_IN_RAD   = 0.1389 #0.15765 - 0.00287011 # rocket inner radius, m\n",
    "TANK_IN_RAD     = 0.1273 #0.14605 # propellant tank inner radius, m\n",
    "TANK_EQV_WT_T   = 0.00213 #0.00175 # tank equivalent weight thickness, m\n",
    "THROTTLE_WINDOW = (100., 500.) # lower and upper bounds of drag force (N) for throttling\n",
    "MIN_THROTTLE    = 1. # the internet says between 60 - 70% is doable without ruining our lives.\n",
    "NOSETIP         = 0.6 # 0.6 kg estimated for aluminum nose tip. Add more as needed for stability.\n",
    "\n",
    "# Fin Geometry\n",
    "FIN_ROOT        = 0.7 # Root length, m\n",
    "FIN_TIP         = 0.45 # tip length, m\n",
    "FIN_SWEEP_ANGLE = np.radians(70) # sweep angle, degrees\n",
    "FIN_SEMISPAN    = 0.36 # fin span/height, m\n",
    "FIN_THICKNESS   = 0.003175 # m, fin thickness from LV3.1\n",
    "FIN_ROOT_HEIGHT = 0.082525 # height of bottom of fin root above base of rocket\n",
    "\n",
    "# RCS parameters\n",
    "# low priority, find constraints for these and optimize\n",
    "RCS_CONTROL = False # whether sims have RCS enabled\n",
    "RCS_MDOT    = 0.03784/3.15 # kg/s RCS nozzle mass flow rate\n",
    "RCS_P_E     = 101300 # Pa, RCS nozzle exit pressure\n",
    "RCS_P_CH    = 689476 # Pa, RCS chamber pressure\n",
    "MAX_N2_TANK_P   = 6.895e7 # Pa, N2 tank pressure (10k PSI)\n",
    "N2_TANK_OR  = 0.0825 # m, tank outer radius\n",
    "\n",
    "# upper subsystem module dimensions, if these change you will have to make changes in structure.ipynb\n",
    "AIRFRAME_THICKNESS = 0.008255 # m, (0.325 in)\n",
    "COUPLING_RING_HT   = 0.03505 # m, space between module\n",
    "CON_NOSE_L         = 1.5\n",
    "CYL_NOSE_L         = 0.3048\n",
    "NOSE_L             = CON_NOSE_L + CYL_NOSE_L       # m, with 1 foot cylinder at end\n",
    "ERS_L              = 4.44 * M_PER_IN  # m \n",
    "RCS_L              = 4.44 * M_PER_IN  # m \n",
    "AV_L               = 22.62 * M_PER_IN # m\n",
    "N2_L               = 22.62 * M_PER_IN # m \n",
    "PAS_L              = 4.44 * M_PER_IN  # m \n",
    "FIN_CAN_L          = 32.62 * M_PER_IN # m, height of fin can module\n",
    "\n",
    "# Engine system dimensions. 'm_' = mass, 'l_' = length\n",
    "# when you have time, these masses should transfer out of structures.ipynb and go into openrocket_interface.ipynb\n",
    "ULLAGE             = 1.1          # percentage of length added to a tank to account for not filling\n",
    "L_FEED             = 0.4572       # m, this is 18\"\n",
    "L_EMS              = 0.1016       # m, this is 4\" \n",
    "L_ENGINE           = 0.300        # m\n",
    "\n",
    "# EFS System parameters\n",
    "LOX_TANK_P         = 689476*1.5 # Pa, lox tank pressure (100 PSI)\n",
    "IPA_TANK_P         = 689476*1.5 # Pa, ipa tank pressure (100 PSI)\n",
    "D_PIPE             = 0.013 # m Plumbing Pipe Diameter\n",
    "A_PIPE             = np.pi/4 * D_PIPE**2 # m^2 Cross Sectional Area of Plumbing Pipe\n",
    "EPSILON_PIPE       = 1.5 *10**(-6) # m Drawn Tubing Relative Roughness\n",
    "PLUMBING_L_F       = 0.508 # m Length of Straight Pipe Section IPA\n",
    "PLUMBING_L_O       = 0.381 # m Length of Straight Pipe Section LOX\n",
    "K_L                = 0.3 # Loss Coefficient for Regular Flanged 90\n",
    "FRIC_F             = 0.025 # Friction Factor for Isopropyl Alcohol\n",
    "FRIC_O             = 0.0149 # Friction Factor for Liquid Oxygen\n",
    "#h_LPintle          = -689.5*1000 # Pa Pressure Loss from Pintle (estimated)\n",
    "DELP_REGEN         = 1.379 * 10**6 # Pa Guessed pressure loss from regenerative cooling channels (200 PSI)\n",
    "DELP_INJ_F         = 344.7*1000 # Pa Experimental Pressure Loss across Pintle\n",
    "DELP_INJ_O         = 689.5*1000 # Pa Experimental Pressure Loss across Pintle"
   ]
  },
  {
   "cell_type": "code",
   "execution_count": 5,
   "metadata": {
    "jupyter": {
     "outputs_hidden": false,
     "source_hidden": false
    },
    "nteract": {
     "transient": {
      "deleting": false
     }
    }
   },
   "outputs": [],
   "source": [
    "# SIMULATION AND OPTIMIZATION PARAMETERS\n",
    "DELTA      = 10**(-3)  # a guess at a good margin for design \"convergence\"\n",
    "MU_0       = 0.0025    # barrier parameter, this value lets altitudes approach lower bound pretty quickly\n",
    "RHO_0      = 5         # penalty parameter, i'm still playing with this value.\n",
    "DT         = 0.05      # change starting time-step for trajectory simulation\n",
    "ITERATIONS = 2         # number of escalating iteration sequences\n",
    "\n",
    "# INITIAL DESIGN GUESS\n",
    "# be sure that you start with a feasible design, otherwise the problem will be ill-conditioned\n",
    "M_PROP = 163.696   # propellant mass (kg)\n",
    "MDOT   = 3.555    # Propellant mass flow rate (kg/s)\n",
    "P_E    = 79517.565 # Exit Pressure (Pa)\n",
    "\n",
    "X0 = np.array([M_PROP, MDOT, P_E, 0, FIN_ROOT, FIN_TIP, FIN_SWEEP_ANGLE, FIN_SEMISPAN, FIN_THICKNESS]) # initial design vector\n",
    "\n",
    "# OPTIMIZATION CONSTRAINTS\n",
    "CONS_IMPLS   = 889600                    # maximum impulse, N s\n",
    "CONS_AOA     = 10.                       # maximum angle of attack\n",
    "CONS_MASS    = 270.                      # GLOW constraint, kg, somewhat arbitrary\n",
    "CONS_LS      = 22.                       # min launch speed from 60' tower constraint, m/s\n",
    "CONS_TWR     = 2.                        # TWR constraint\n",
    "CONS_S_CRIT  = 0.35                      # Critical pressure ratio constraint\n",
    "CONS_ACCEL   = 15.                       # Max acceleration constraint, g's\n",
    "CONS_LD      = 22.                       # L/D ratio constraint, slightly arbitrary\n",
    "CONS_ALT     = 100000.                   # Min altitude constraint, m\n",
    "CONS_THRUST  = 8000                      # max ground-level thrust, kN\n",
    "CONS_CEILING = 150000.                   # base-11 maximum apogee requirement, km\n",
    "CONS_STBLTY  = 2.0                       # minimum in flight stability margin caliber\n",
    "CONS_EFS     = 7500                      # maximum EFS pump power, W"
   ]
  },
  {
   "cell_type": "code",
   "execution_count": 6,
   "metadata": {
    "jupyter": {
     "outputs_hidden": false,
     "source_hidden": false
    },
    "nteract": {
     "transient": {
      "deleting": false
     }
    }
   },
   "outputs": [],
   "source": [
    "RKT_PREFIX = \"../rocket_farm/\" # the rockets live on a cute little farm upstate where they frolic in fields\n",
    "\n",
    "## Utility Functions\n",
    "# unpack rocket template temporarily\n",
    "def unzip():\n",
    "    with ZipFile('../LV4_canonical/template.ork') as myzip:\n",
    "        myzip.extract('rocket.ork')\n",
    "\n",
    "# package our new rocket and remove temporary template\n",
    "def zipit(index):\n",
    "    with ZipFile(RKT_PREFIX+'psas_rocket_'+index+'.ork', 'w') as myzip:\n",
    "        myzip.write('rocket.ork')\n",
    "    if 'linux' in _platform:\n",
    "        os.system('rm rocket.ork')\n",
    "    elif \"darwin\" in _platform:\n",
    "        os.system('rm rocket.ork')\n",
    "    elif \"win\" in _platform:\n",
    "        os.system('del rocket.ork')\n",
    "\n",
    "# pulls ALL file references from given directory\n",
    "def all_files(directory):\n",
    "    for path, dirs, files in os.walk(directory):\n",
    "        for f in sorted(files):\n",
    "            yield os.path.join(path, f)\n",
    "\n",
    "# counts how many rockets are in our directory and then increments by 1\n",
    "def get_index():\n",
    "    ork_files = [f for f in all_files(RKT_PREFIX)\n",
    "                   if f.endswith('.ork')]\n",
    "    return len(ork_files) + 1\n"
   ]
  },
  {
   "cell_type": "code",
   "execution_count": 7,
   "metadata": {
    "jupyter": {
     "outputs_hidden": false,
     "source_hidden": false
    },
    "nteract": {
     "transient": {
      "deleting": false
     }
    }
   },
   "outputs": [],
   "source": [
    "# Consider that there are two tanks, and we will want to divide total mass flow rate and propellant mass\n",
    "# oxygen first, fuel second\n",
    "def proportion(amount, OF):\n",
    "    stuff_o = amount * OF/(1 + OF)\n",
    "    stuff_f = amount * 1/(1 + OF)\n",
    "    return stuff_o, stuff_f\n",
    "    \n",
    "# this is hamilton's quaternion product\n",
    "def product(a, b):\n",
    "    v = b[0] * a[1:] + a[0] * b[1:] + np.cross(a[1:], b[1:])\n",
    "    return np.array([a[0] * b[0] - np.dot(a[1:], b[1:]), v[0], v[1], v[2]])\n",
    "\n",
    "# this is the inverse of a unit quat\n",
    "def conjugate(q):\n",
    "    return np.array([q[0], -q[1], -q[2], -q[3]])\n",
    "\n",
    "# this rotates a vector with a fixed frame\n",
    "def sandwich(q, v):\n",
    "    return product(q, product(np.array([0, v[0], v[1], v[2]]), conjugate(q)))[1:]\n",
    "\n",
    "# this rotates a frame with a fixed vector\n",
    "def frame_rotation(q, v):\n",
    "    return sandwich(conjugate(q), v)\n",
    "\n",
    "# this constrains a quat to S3 or vector to S2\n",
    "def normalize(q):\n",
    "    norm = np.linalg.norm(q)\n",
    "    norm = norm if norm !=0 else 1\n",
    "    return q / norm\n",
    "\n",
    "def eulerangle_to_quat(RA, dec, orientation):\n",
    "    '''Encodes star tracker's attitude representation as a quaternion in\n",
    "    3-2-1 order (yaw, pitch, roll). This quaternion transforms the inertial frame to the body frame.\n",
    "\n",
    "    :params: right ascenscion, declination, roll.\n",
    "    :returns: Quaternion representation of attitude.'''\n",
    "    RA = RA / 2\n",
    "    dec = dec / 2\n",
    "    ortn = orientation / 2\n",
    "    c_phi = np.cos(ortn)\n",
    "    s_phi = np.sin(ortn)\n",
    "    c_theta = np.cos(dec)\n",
    "    s_theta = np.sin(dec)\n",
    "    c_psi = np.cos(RA)\n",
    "    s_psi = np.sin(RA)\n",
    "    return np.array([c_phi * c_theta * c_psi  +  s_phi * s_theta * s_psi,\n",
    "                     s_phi * c_theta * c_psi  -  c_phi * s_theta * s_psi,\n",
    "                     c_phi * s_theta * c_psi  +  s_phi * c_theta * s_psi,\n",
    "                     c_phi * c_theta * s_psi  -  s_phi * s_theta * c_psi\n",
    "                     ])"
   ]
  },
  {
   "cell_type": "code",
   "execution_count": null,
   "metadata": {},
   "outputs": [],
   "source": []
  }
 ],
 "metadata": {
  "kernelspec": {
   "display_name": "Python 3",
   "language": "python",
   "name": "python3"
  },
  "language_info": {
   "codemirror_mode": {
    "name": "ipython",
    "version": 3
   },
   "file_extension": ".py",
   "mimetype": "text/x-python",
   "name": "python",
   "nbconvert_exporter": "python",
   "pygments_lexer": "ipython3",
   "version": "3.7.4"
  }
 },
 "nbformat": 4,
 "nbformat_minor": 1
}
