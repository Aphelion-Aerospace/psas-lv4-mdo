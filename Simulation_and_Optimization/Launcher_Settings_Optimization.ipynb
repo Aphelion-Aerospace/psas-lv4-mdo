{
 "cells": [
  {
   "cell_type": "code",
   "execution_count": 1,
   "metadata": {},
   "outputs": [
    {
     "name": "stderr",
     "output_type": "stream",
     "text": [
      "/home/cory/anaconda3/lib/python3.7/site-packages/statsmodels/tools/_testing.py:19: FutureWarning: pandas.util.testing is deprecated. Use the functions in the public API at pandas.testing instead.\n",
      "  import pandas.util.testing as tm\n"
     ]
    }
   ],
   "source": [
    "# Nelder-Mead simplex search\n",
    "%matplotlib inline\n",
    "%run Trajectory_Simulation.ipynb\n",
    "\n",
    "# i'm sorry for global vars...\n",
    "global allvectors, allobjval\n",
    "allvectors = []               # array for all design vecs, global variable\n",
    "allobjfun = []                # array for tracking objective function evaluations"
   ]
  },
  {
   "cell_type": "markdown",
   "metadata": {},
   "source": [
    "## Functions of Merit\n",
    "We chose to abstract all of the functions used within the merit function for increased flexibility, ease of reading, and later utility.\n",
    "\n",
    "* **objective** is arbitrarily constructed. It is\n",
    "    * normalized (by a somewhat arbitrary constant) to bring it into the same range as constraints,\n",
    "    * squared to reward (or punish) relative to the distance from nominal value, and\n",
    "    * divided by two so that our nominal value is 0.5 instead of 1.0.\n",
    "* **exact** is less arbitrarily constructed. It is\n",
    "    * squared to be horizontally symmetric (which could also be obtained by absolute value),\n",
    "    * determined by the distance from a constant, and\n",
    "    * divided by two is for aesthetic value.\n",
    "* **exterior** is not particularly arbitrary. It is\n",
    "    * boolean so that we can specify whether it is minimizing or maximizing its variable,\n",
    "    * 0 when the inequality is satisfied, otherwise it is just as punishing as **exact**.\n",
    "* **barrier** comes in two flavors, one of which is not used here. It is\n",
    "    * boolean so that we can specify whether it is a lower or an upper bound,\n",
    "    * completely inviolable, unlike exact and exterior penalties.\n",
    "    \n",
    "Technically logarithmic barrier functions allow negative penalties (i.e. rewards), but since we use upper and lower altitude barriers, it is impossible that their sum be less than 0. If the optimizer steps outside of the apogee window, the barrier functions can attempt undefined operations (specifically, taking the logarithm of a negative number), so some error handling is required to return an infinite value in those cases. Provided that the initial design is within the feasible region, the optimizer will not become disoriented by infinite values."
   ]
  },
  {
   "cell_type": "code",
   "execution_count": 2,
   "metadata": {},
   "outputs": [],
   "source": [
    "# all of our comparisons are ratios instead of subtractions because\n",
    "# it's normalized, instead of dependent on magnitudes of variables and constraints\n",
    "\n",
    "def objective_additive(var, cons):\n",
    "    return np.linalg.norm(var - cons)**2 / 2\n",
    "\n",
    "# minimize this, **2 makes it well behaved w.r.t. when var=cons\n",
    "def objective(var, cons):\n",
    "    return (var/cons)**2 / 2\n",
    "\n",
    "# **2 because i like it more than abs(), but that also works\n",
    "def exact(var, cons):\n",
    "    return (var/cons - 1)**2 / 2\n",
    "\n",
    "# this is your basic exterior penalty, either punishes for unfeasibility or is inactive\n",
    "def exterior(var, cons, good_if_less_than=False):\n",
    "    if good_if_less_than:\n",
    "        return max(0, var/cons - 1)**2 / 2\n",
    "    else:\n",
    "        return max(0, -(var/cons - 1))**2 / 2\n",
    "\n",
    "# this barrier function restricts our objective function to the strictly feasible region\n",
    "# make rockets great again, build that wall, etc, watch out for undefined operations\n",
    "def barrier(var, cons, int_point=False, good_if_less_than=True):\n",
    "    global dbz\n",
    "    try: # just in case we accidentally leave feasible region\n",
    "        if not int_point:\n",
    "            if good_if_less_than:\n",
    "                return -log(-(var/cons - 1))\n",
    "            else:\n",
    "                return -log(var/cons - 1)\n",
    "        elif int_point:\n",
    "            def interior(g): return 1/g # in case we don't like logarithms, which is a mistake\n",
    "            if good_if_less_than:\n",
    "                return -interior(var/cons - 1)\n",
    "            else:\n",
    "                return -interior(-(var/cons - 1))\n",
    "    except:\n",
    "        return float('inf') # ordinarily, this is bad practice since it could confuse the optimizer\n",
    "                            # however, since this is a barrier function not an ordinary penalty, i think it's fine"
   ]
  },
  {
   "cell_type": "markdown",
   "metadata": {},
   "source": [
    "## Optimization Problem\n",
    "Given a design vector $x$ and the iteration number $n$ our merit function **f** runs a trajectory simulation and evaluates the quality of that rocket. We keep track of each design and its merit value for later visualization, hence why global variables are used.\n",
    "\n",
    "We run an iterative sequence of optimization routines for the win. We use the Euclidean distance in the design space between successive optimal designs to decide when it is no longer worth continuing, around the 6th decimal place."
   ]
  },
  {
   "cell_type": "code",
   "execution_count": 3,
   "metadata": {},
   "outputs": [],
   "source": [
    "# this manages all our constraints\n",
    "# penalty parameters: mu -> 0 and rho -> infinity \n",
    "def penalty(mu, rho):\n",
    "    b = [\n",
    "        ]\n",
    "    eq = []\n",
    "    ext = [\n",
    "          ]\n",
    "    return mu*sum(b) + rho*(sum(eq) + sum(ext))\n",
    "\n",
    "# Pseudo-objective merit function\n",
    "# x is array of design parameters, n is index of penalty and barrier functions\n",
    "# print blocks are sanity checks so i'm not staring at a blank screen and can see what various tweaks actually do\n",
    "def cost(x, nominal):\n",
    "    global allvectors, allobjfun\n",
    "    # get trajectory data\n",
    "    sim = trajectory(144.589, 2.871, 74610.004, throttle_window, min_throttle, rcs_mdot, rcs_p_e, rcs_p_ch, \n",
    "                        ballast, root, tip, sweep, span, thickness, airfrm_in_rad,\n",
    "                          OF, p_ch, T_ch, ke, MM,\n",
    "                          [0, 0, x[0], x[1], False, 0, 0, 0, 0, 0, 0, False], \n",
    "                          0.05, True, 0.045, True, True)\n",
    "    \n",
    "    # either minimize the distance from nominal impact point\n",
    "    if nominal != ' ':\n",
    "        #nominal = np.array([nominal, kludge])\n",
    "        obj_func = objective_additive(sim.impact, nominal)\n",
    "    # or maximize distance from launch point\n",
    "    else:\n",
    "        obj_func = - objective_additive(sim.impact, sim.env.launch_pt)\n",
    "    \n",
    "    # add objective and penalty functions\n",
    "    merit_func = obj_func\n",
    "    allvectors.append(x) # maintains a list of every design, side effect\n",
    "    allobjfun.append(merit_func)\n",
    "    return merit_func\n",
    "\n",
    "# we want to iterate our optimizer for theoretical \"convergence\" reasons (given some assumptions)\n",
    "# n = number of sequential iterations\n",
    "def iterate(func, x_0, n, nominal):\n",
    "    x = x_0 #[:3] # initial design vector, stripping off throttling variables for now\n",
    "    designs = []\n",
    "    for i in range(n):\n",
    "        print(\"Iteration \" + str(i+1) + \":\")\n",
    "        # this minimizer uses simplex method\n",
    "        res = minimize(func, x, args=(nominal), method='nelder-mead', options={'disp': True, 'xatol': 0.05, 'fatol': 0.05})\n",
    "        x = res.x # feed optimal design vec into next iteration\n",
    "        \n",
    "        designs.append(res.x)   # we want to compare sequential objectives \n",
    "                                # so we can stop when convergence criteria met\n",
    "    return x\n",
    "\n",
    "def breed_rockets(func, nominal):\n",
    "    res = differential_evolution(func=func, bounds=[(0, 360), (-25, 1)], args=((nominal)),\n",
    "                                 strategy='best1bin', popsize=80, mutation=(.1, .8), recombination=.05,\n",
    "                                 updating='immediate', disp=True, atol=0.05, tol=0.05,\n",
    "                                 polish=True,workers=-1)\n",
    "    return res.x"
   ]
  },
  {
   "cell_type": "markdown",
   "metadata": {},
   "source": [
    "## Optimization Information and Graphing\n",
    "It is to the benefit of our intuition if we can visualize the design space and our final trajectory. This block of code simply provides all of the relevant information from a trajectory as text, and displays useful graphs."
   ]
  },
  {
   "cell_type": "markdown",
   "metadata": {},
   "source": [
    "# Top-Level of Optimization Routine\n",
    "Here's where the magic happens. This code block runs the iterative optimization, provides details from our optimized trajectory, uses the OpenRocket interface to make a model rocket and engine for higher-fidelity analysis, and then displays visuals."
   ]
  },
  {
   "cell_type": "code",
   "execution_count": 4,
   "metadata": {
    "scrolled": false
   },
   "outputs": [
    {
     "name": "stdout",
     "output_type": "stream",
     "text": [
      "Optimization done!\n"
     ]
    }
   ],
   "source": [
    "# Results, this is the big boi function\n",
    "if __name__ == '__main__':\n",
    "    x0 = np.array([180, -30])\n",
    "    # feed initial design into iterative optimizer, get most (locally) feasible design\n",
    "    #x = iterate(f, x0, 1, nominal = np.array([34.49847331, -106.97472628]))\n",
    "    #x = iterate(f, x0, 1, nominal = (' ', None))\n",
    "    #x = breed_rockets(f, ' ')\n",
    "    # probe design space, darwin style. if design space has more than 3 dimensions, you need this. takes forever.\n",
    "    #res = breed_rockets(f)\n",
    "    \n",
    "    print(\"Optimization done!\")"
   ]
  },
  {
   "cell_type": "code",
   "execution_count": 5,
   "metadata": {
    "scrolled": false
   },
   "outputs": [],
   "source": [
    "if False and __name__ == '__main__':\n",
    "# Rename the optimized output for convenience\n",
    "    az_perturb    = x[0]\n",
    "    el_perturb = x[1]\n",
    "    \n",
    "    # get trajectory info from optimal design\n",
    "    sim = trajectory(144.589, 2.871, 74610.004, throttle_window, min_throttle, rcs_mdot, rcs_p_e, rcs_p_ch, \n",
    "                        ballast, root, tip, sweep, span, thickness, airfrm_in_rad,\n",
    "                          OF, p_ch, T_ch, ke, MM,\n",
    "                          [0, 0, az_perturb, el_perturb, False, 0, 0, 0, 0, 0, 0, True], \n",
    "                          0.05, False, 0.04, True, False)\n",
    "    \n",
    "    print(\"Azimuth Perturbation:\", az_perturb)\n",
    "    print(\"Elevation Perturbation:\", el_perturb)\n",
    "    print(\"Launch point\", sim.env.launch_pt)\n",
    "    print(\"Impact point\", sim.impact)\n",
    "    print()\n",
    "    \n",
    "    textlist = print_results(sim, False)\n",
    "    # draw pretty pictures of optimized trajectory\n",
    "    rocket_plot(sim.t, sim.alt, sim.v, sim.a, sim.thrust,\n",
    "                sim.dyn_press, sim.Ma, sim.m, sim.p_a, sim.drag, sim.throttle, sim.fin_flutter, sim, False)\n",
    "    \n",
    "    # get/print info about our trajectory and rocket\n",
    "    for line in textlist:\n",
    "        print(line)\n",
    "    \n",
    "    # draw more pretty pictures, but of the optimizer guts\n",
    "    #design_grapher(allvectors)"
   ]
  },
  {
   "cell_type": "code",
   "execution_count": null,
   "metadata": {},
   "outputs": [
    {
     "name": "stdout",
     "output_type": "stream",
     "text": [
      "Iteration 1:\n"
     ]
    },
    {
     "name": "stderr",
     "output_type": "stream",
     "text": [
      "/home/cory/anaconda3/lib/python3.7/site-packages/ipykernel_launcher.py:24: FutureWarning: elementwise comparison failed; returning scalar instead, but in the future will perform elementwise comparison\n"
     ]
    }
   ],
   "source": [
    "# Results, this is the big boi function\n",
    "if __name__ == '__main__':\n",
    "    x0 = np.array([0, -10])\n",
    "    # feed initial design into iterative optimizer, get most (locally) feasible design\n",
    "    x = iterate(cost, x0, 1, nominal = np.array([32.913926, -106.363603]))\n",
    "    #x = iterate(f, x0, 1, nominal = None)\n",
    "    # probe design space, darwin style. if design space has more than 3 dimensions, you need this. takes forever.\n",
    "    #x = breed_rockets(cost, nominal = np.array([32.913926, -106.363603]))\n",
    "    \n",
    "    print(\"Optimization done!\")"
   ]
  },
  {
   "cell_type": "code",
   "execution_count": null,
   "metadata": {
    "scrolled": false
   },
   "outputs": [],
   "source": [
    "if __name__ == '__main__':\n",
    "# Rename the optimized output for convenience\n",
    "    az_perturb    = x[0]\n",
    "    el_perturb = x[1]\n",
    "    \n",
    "    # get trajectory info from optimal design\n",
    "    sim = trajectory(144.589, 2.871, 74610.004, throttle_window, min_throttle, rcs_mdot, rcs_p_e, rcs_p_ch, \n",
    "                        ballast, root, tip, sweep, span, thickness, airfrm_in_rad,\n",
    "                          OF, p_ch, T_ch, ke, MM,\n",
    "                          [0, 0, az_perturb, el_perturb, False, 0, 0, 0, 0, 0, 0, False], \n",
    "                          0.05, False, 0.04, True, False)\n",
    "    \n",
    "    print(\"Azimuth Perturbation:\", az_perturb)\n",
    "    print(\"Elevation Perturbation:\", el_perturb)\n",
    "    print(\"Launch point\", sim.env.launch_pt)\n",
    "    print(\"Impact point\", sim.impact)\n",
    "    print()\n",
    "    \n",
    "    textlist = print_results(sim, False)\n",
    "    # draw pretty pictures of optimized trajectory\n",
    "    rocket_plot(sim.t, sim.alt, sim.v, sim.a, sim.thrust,\n",
    "                sim.dyn_press, sim.Ma, sim.m, sim.p_a, sim.drag, sim.throttle, sim.fin_flutter, sim, False, None, None)\n",
    "    \n",
    "    # get/print info about our trajectory and rocket\n",
    "    for line in textlist:\n",
    "        print(line)\n",
    "    \n",
    "    # draw more pretty pictures, but of the optimizer guts\n",
    "    #design_grapher(allvectors)"
   ]
  },
  {
   "cell_type": "code",
   "execution_count": null,
   "metadata": {},
   "outputs": [],
   "source": []
  }
 ],
 "metadata": {
  "kernelspec": {
   "display_name": "Python 3",
   "language": "python",
   "name": "python3"
  },
  "language_info": {
   "codemirror_mode": {
    "name": "ipython",
    "version": 3
   },
   "file_extension": ".py",
   "mimetype": "text/x-python",
   "name": "python",
   "nbconvert_exporter": "python",
   "pygments_lexer": "ipython3",
   "version": "3.7.4"
  }
 },
 "nbformat": 4,
 "nbformat_minor": 2
}
