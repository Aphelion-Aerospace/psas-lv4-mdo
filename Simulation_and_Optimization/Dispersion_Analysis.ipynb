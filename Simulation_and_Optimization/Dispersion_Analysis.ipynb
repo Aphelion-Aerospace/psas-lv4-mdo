{
 "cells": [
  {
   "cell_type": "markdown",
   "metadata": {
    "nteract": {
     "transient": {
      "deleting": false
     }
    }
   },
   "source": [
    "The purpose of this code is to take batches of simulation data and plot them on a map. It does some calculations also to determine circular error probable, which helps bound likely impact points.\n",
    "\n",
    "A valid Google API key must be entered for plotting capability. Be aware of not publishing it to the internet."
   ]
  },
  {
   "cell_type": "code",
   "execution_count": null,
   "metadata": {
    "collapsed": true,
    "jupyter": {
     "outputs_hidden": false,
     "source_hidden": false
    },
    "nteract": {
     "transient": {
      "deleting": false
     }
    }
   },
   "outputs": [],
   "source": [
    "%run Trajectory_Simulation.ipynb\n",
    "import pandas as pd\n",
    "\n",
    "from bokeh.io import output_file, output_notebook, show\n",
    "from bokeh.plotting import gmap, figure\n",
    "from bokeh.models import (\n",
    "    Ellipse, Annulus,\n",
    "    GMapPlot, GMapOptions, ColumnDataSource, Circle, LogColorMapper, BasicTicker, ColorBar,\n",
    "    PanTool, WheelZoomTool, BoxSelectTool, Range1d, Arrow, Segment, Ray\n",
    ")\n",
    "from bokeh.models.mappers import ColorMapper, LinearColorMapper\n",
    "from bokeh.palettes import Viridis5, Inferno256\n",
    "\n",
    "API_KEY = ''"
   ]
  },
  {
   "cell_type": "code",
   "execution_count": null,
   "metadata": {
    "collapsed": true,
    "jupyter": {
     "outputs_hidden": false,
     "source_hidden": false
    },
    "nteract": {
     "transient": {
      "deleting": false
     }
    }
   },
   "outputs": [],
   "source": [
    "# linearization of globe based on our latitude\n",
    "# this is for calculating displacements from (0, 0, 0) in m as displacements in deg\n",
    "# given the size of Earth, error from linearization should be negligible\n",
    "# refer to https://gis.stackexchange.com/questions/75528/understanding-terms-in-length-of-degree-formula\n",
    "def m_per_deg_lat(lat):\n",
    "    lat = np.radians(lat)\n",
    "    return 111132.92 - 559.82*np.cos(2*lat) + 1.175*np.cos(4*lat) - 0.0023*np.cos(6*lat)\n",
    "\n",
    "def m_per_deg_long(long):\n",
    "    long = np.radians(long)\n",
    "    return 111412.84 - 93.5*cos(3*long) + 0.118*cos(5*long)\n",
    "\n",
    "def lat_long(df):\n",
    "    array = df.loc[:, ['x', 'y', 'z']]\n",
    "    X = [x for x in array['x']]\n",
    "    Y = [y for y in array['y']]\n",
    "    Z = [z for z in array['z']]\n",
    "    coords = [Environment(None, 1).ECEF_to_geodetic([X[i], Y[i], Z[i]])\n",
    "                                   for i in range(len(array))]\n",
    "    df['lat'] = [coord[0] for coord in coords]\n",
    "    df['long'] = [coord[1] for coord in coords]\n",
    "    df['height'] = [coord[2] for coord in coords]\n",
    "\n",
    "# mean impact point\n",
    "def get_mean_cartesian(df):\n",
    "    mean_x, mean_y, mean_z = df.loc[:, ['x', 'y', 'z']].describe().loc['mean']\n",
    "    return mean_x, mean_y, mean_z\n",
    "\n",
    "# mean impact point\n",
    "def get_mean_geode(df):\n",
    "    mean_lat, mean_long = df.loc[:, ['lat', 'long']].describe().loc['mean']\n",
    "    return mean_lat, mean_long"
   ]
  },
  {
   "cell_type": "code",
   "execution_count": null,
   "metadata": {
    "collapsed": true,
    "jupyter": {
     "outputs_hidden": false,
     "source_hidden": false
    },
    "nteract": {
     "transient": {
      "deleting": false
     }
    }
   },
   "outputs": [],
   "source": [
    "def calc_CEP(results_df, mean, target):\n",
    "    #dx = m_per_deg_long(mean[1])\n",
    "    #dy = m_per_deg_lat(mean[0])\n",
    "    # CEP = sqrt(MSE) = sqrt(GPS_error + bias + var_norm + var_theta + cov_norm_theta)\n",
    "    # this is the mean distance from the mean impact point\n",
    "    variance = results_df.loc[:,['lat','long']].var(axis=0).sum()\n",
    "    covariance = results_df.loc[:,['lat','long']].cov().loc['lat','long']\n",
    "    # GPS is 95% inside a 2x2 m box, and 95% of values on one axis are within 2*RMS of ideal\n",
    "    # thus RMS = 1/2, since 2* 1/2 =1, and 1 on each side gives a 2 m bound. Therefore MSE = 1/4, which we double\n",
    "    # because there are two axes to account for\n",
    "    #GPS_MSE = 1/4\n",
    "    diff = np.array(target) - np.array(mean)\n",
    "    #diff[0] *= dy\n",
    "    #diff[1] *= dx\n",
    "    bias = np.linalg.norm(diff)\n",
    "    total_MSE = variance + covariance + bias #+ 2*GPS_MSE\n",
    "    CEP = np.sqrt(total_MSE)\n",
    "    return CEP\n",
    "\n",
    "# this requires a google api key. ask me on slack if you want to use mine, please keep it secret, keep it safe\n",
    "def plot_on_map(df, nominal, launch_site):#, release_pt, mean_wind, release_theta, CEP):\n",
    "    dX = m_per_deg_long(nominal[1])\n",
    "    dY = m_per_deg_lat(nominal[0])\n",
    "        \n",
    "    mean_lat, mean_long = get_mean_geode(df)\n",
    "    CEP = calc_CEP(df, [mean_lat, mean_long], nominal)\n",
    "    \n",
    "    dy = CEP\n",
    "    dx = CEP\n",
    "    \n",
    "    map_options = GMapOptions(lat=mean_lat, lng=mean_long, map_type=\"terrain\", zoom=6, scale_control=True)\n",
    "    #plot = GMapPlot(x_range=Range1d(), y_range=Range1d(), map_options=map_options)\n",
    "    plot = gmap(google_api_key = API_KEY, map_options=map_options)\n",
    "    plot.title.text = \"Impact Points\"\n",
    "    plot.api_key = API_KEY\n",
    "    plot.match_aspect=True\n",
    "    \n",
    "    source = ColumnDataSource(\n",
    "    data=dict(\n",
    "        lat=df.lat.tolist(),\n",
    "        lon=df.long.tolist()))\n",
    "    \n",
    "    #color_mapper = LinearColorMapper(palette=Inferno256, low=min(df['v_w']), high=max(df['v_w']))\n",
    "    nominal_pt = Circle(x=nominal[1], y=nominal[0], size=10, fill_color='blue',\n",
    "                    fill_alpha=0.5, line_color=None)\n",
    "    mean_pt = Circle(x=mean_long, y=mean_lat, size=10, fill_color='purple',\n",
    "                    fill_alpha=0.5, line_color=None)\n",
    "    launch_pt = Circle(x=launch_site[1], y=launch_site[0], size=10, fill_color='green',\n",
    "                    fill_alpha=0.5, line_color=None)\n",
    "    circle = Circle(x=\"lon\", y=\"lat\", size=5, fill_color='red',\n",
    "                    fill_alpha=0.5, line_color=None)\n",
    "    \n",
    "    plot.add_glyph(source, circle)\n",
    "    plot.add_glyph(nominal_pt)\n",
    "    plot.add_glyph(mean_pt)\n",
    "    plot.add_glyph(launch_pt)\n",
    "    \n",
    "    plot.arc(x=nominal[1], y=nominal[0], radius=CEP*dY, start_angle=0, end_angle=2*np.pi, line_color='red')\n",
    "    plot.arc(x=nominal[1], y=nominal[0], radius=CEP*2*dY, start_angle=0, end_angle=2*np.pi, line_color='green')\n",
    "    plot.arc(x=nominal[1], y=nominal[0], radius=CEP*3*dY, start_angle=0, end_angle=2*np.pi, line_color='blue')\n",
    "    \n",
    "    output_notebook()\n",
    "\n",
    "    show(plot)"
   ]
  },
  {
   "cell_type": "markdown",
   "metadata": {},
   "source": [
    "Note that if the data is in multiple files, it must be concatenated. Also, when a table is loaded from a file, the first column is just indices, so we must drop it."
   ]
  },
  {
   "cell_type": "code",
   "execution_count": null,
   "metadata": {
    "collapsed": true,
    "jupyter": {
     "outputs_hidden": false,
     "source_hidden": false
    },
    "nteract": {
     "transient": {
      "deleting": false
     }
    }
   },
   "outputs": [],
   "source": [
    "sim_data = pd.concat(map(pd.read_csv, ['./dispersion_sample_data/sim_data1.csv',\n",
    "                                        './dispersion_sample_data/sim_data2.csv',\n",
    "                                        './dispersion_sample_data/sim_data3.csv',\n",
    "                                        './dispersion_sample_data/sim_data4.csv',\n",
    "                                       './dispersion_sample_data/sim_data5.csv']))\n",
    "sim_data.drop('Unnamed: 0', axis='columns', inplace=True)\n",
    "lat_long(sim_data)\n",
    "print(sim_data.describe())"
   ]
  },
  {
   "cell_type": "code",
   "execution_count": null,
   "metadata": {
    "collapsed": true,
    "jupyter": {
     "outputs_hidden": false,
     "source_hidden": false
    },
    "nteract": {
     "transient": {
      "deleting": false
     }
    }
   },
   "outputs": [],
   "source": [
    "plot_on_map(sim_data, nominal=[34.58299979, -106.98085475], launch_site=[32.9895472, -106.9694681])"
   ]
  },
  {
   "cell_type": "code",
   "execution_count": null,
   "metadata": {
    "collapsed": true,
    "jupyter": {
     "outputs_hidden": false,
     "source_hidden": false
    },
    "nteract": {
     "transient": {
      "deleting": false
     }
    }
   },
   "outputs": [],
   "source": []
  }
 ],
 "metadata": {
  "kernelspec": {
   "display_name": "Python 3",
   "language": "python",
   "name": "python3"
  },
  "language_info": {
   "codemirror_mode": {
    "name": "ipython",
    "version": 3
   },
   "file_extension": ".py",
   "mimetype": "text/x-python",
   "name": "python",
   "nbconvert_exporter": "python",
   "pygments_lexer": "ipython3",
   "version": "3.7.4"
  }
 },
 "nbformat": 4,
 "nbformat_minor": 1
}
