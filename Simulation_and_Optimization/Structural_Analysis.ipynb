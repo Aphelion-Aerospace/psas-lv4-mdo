{
 "cells": [
  {
   "cell_type": "markdown",
   "id": "17036333",
   "metadata": {},
   "source": [
    "# Structural Analysis"
   ]
  },
  {
   "cell_type": "code",
   "execution_count": 4,
   "id": "e867deaf",
   "metadata": {},
   "outputs": [],
   "source": [
    "global allvectors, allobjfun\n",
    "ipa_wt, of_ratio, p_ch, Tc, MW, gamma, _ = propellant_optimizer(x[5])\n",
    "# get trajectory data\n",
    "sim = trajectory(x[0], x[1], x[2],\n",
    "           THROTTLE_WINDOW, MIN_THROTTLE,\n",
    "           RCS_MDOT, RCS_P_E, RCS_P_CH,\n",
    "           BALLAST, FIN_ROOT, FIN_TIP, FIN_SWEEP_ANGLE, FIN_SEMISPAN, FIN_THICKNESS, CON_NOSE_L,\n",
    "            x[3], x[4], RIB_T, NUM_RADL_DVSNS,\n",
    "           AIRFRM_IN_RAD, ipa_wt, of_ratio, x[5], Tc, gamma, MW,\n",
    "           [0, 0, AZ_PERTURB, EL_PERTURB, True, 0, 0, 0, 0, 0, 0, True], \n",
    "            0.025, True, 0.005, False, False)"
   ]
  },
  {
   "cell_type": "code",
   "execution_count": null,
   "id": "9fb39a6a",
   "metadata": {},
   "outputs": [],
   "source": []
  }
 ],
 "metadata": {
  "kernelspec": {
   "display_name": "Python 3 (ipykernel)",
   "language": "python",
   "name": "python3"
  },
  "language_info": {
   "codemirror_mode": {
    "name": "ipython",
    "version": 3
   },
   "file_extension": ".py",
   "mimetype": "text/x-python",
   "name": "python",
   "nbconvert_exporter": "python",
   "pygments_lexer": "ipython3",
   "version": "3.7.11"
  }
 },
 "nbformat": 4,
 "nbformat_minor": 5
}
