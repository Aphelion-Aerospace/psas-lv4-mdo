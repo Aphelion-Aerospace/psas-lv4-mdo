{
 "cells": [
  {
   "cell_type": "markdown",
   "metadata": {},
   "source": [
    "# Purpose\n",
    "This program generates a list of randomized perturbations of various parameters of a rocket's design, launch, and trajectory, then simulates a trajectory for each one and tabulates the perturbations and their final impact points. Impact points are in Cartesian coordinates, so columns are created for latitude, longitude, and height, and then the results are saved as a .csv file for later analysis by another program.\n",
    "\n",
    "In order, the perturbations are as follows (in order):\n",
    "\n",
    "| Column name |  Description | Units |\n",
    "| ------- | --- | --- |\n",
    "|'deg N' | Initial latitude offset | decimal degrees|\n",
    "|'deg E' | Initial longitude offset| decimal degrees|\n",
    "|'Launch Az'| Launcher azimuth| degrees |\n",
    "|'Launch El'| Launcher elevation|  degrees|\n",
    "|'Tip-Off'| Tip-off error is simulated | boolean|\n",
    "|'Thrust Pitch'| Engine thrust vector misalignment, pitch | degrees|\n",
    "|'Thrust Yaw'|Engine thrust vector misalignment, yaw | degrees|\n",
    "|'mdot'| Mass flow rate| kg/s|\n",
    "|'p_e'| Nozzle exit pressure| Pa |\n",
    "|'mass'| Excess mass | positive number, kg |\n",
    "|'drag'| Drag coefficient | dimensionless |\n",
    "|'Wind'| Wind velocity is included| boolean|\n",
    "\n",
    "I tried to pick reasonable estimates for standard deviations of these parameters. However, we still need engineers to select values reflective of what we can expect IRL."
   ]
  },
  {
   "cell_type": "code",
   "execution_count": 1,
   "metadata": {},
   "outputs": [
    {
     "name": "stderr",
     "output_type": "stream",
     "text": [
      "/home/cory/anaconda3/lib/python3.7/site-packages/statsmodels/tools/_testing.py:19: FutureWarning: pandas.util.testing is deprecated. Use the functions in the public API at pandas.testing instead.\n",
      "  import pandas.util.testing as tm\n"
     ]
    }
   ],
   "source": [
    "%run Trajectory_Simulation.ipynb\n",
    "import pandas as pd"
   ]
  },
  {
   "cell_type": "code",
   "execution_count": 2,
   "metadata": {},
   "outputs": [],
   "source": [
    "amount = 100 # number of simulations per run\n",
    "\n",
    "def mc_init(num_sims):\n",
    "    results = []\n",
    "    perturbation_list = []\n",
    "\n",
    "    for i in range(num_sims):\n",
    "        perturbation = []\n",
    "        perturbation.append(np.random.normal(0, 0.008333 / 3))\n",
    "        perturbation.append(np.random.normal(0, 0.008333 / 3))\n",
    "        perturbation.append(np.random.normal(0, 0.333333))\n",
    "        perturbation.append(np.random.normal(0, 0.333333))\n",
    "        perturbation.append(np.random.rand() < 0.25)\n",
    "        perturbation.append(np.random.normal(0, 0.0333333))\n",
    "        perturbation.append(np.random.normal(0, 0.0333333))\n",
    "        perturbation.append(np.random.normal(0, 0.0333333 / 2))\n",
    "        perturbation.append(np.random.normal(0, 0.0333333 / 2))\n",
    "        perturbation.append(np.random.exponential(2.5))\n",
    "        perturbation.append(np.random.normal(0, 0.0333333/2))\n",
    "        perturbation.append(np.random.rand() < 0.25)\n",
    "        \n",
    "        perturbation_list.append(perturbation)\n",
    "        \n",
    "    print('random perturbations obtained\\n')\n",
    "    \n",
    "    for i, perturbation in enumerate(perturbation_list):\n",
    "        if i % 10 == 0: print('iterations:', i)\n",
    "        sim = trajectory(144.589, 2.871, 74610.004, throttle_window, min_throttle, rcs_mdot, rcs_p_e, rcs_p_ch, \n",
    "                        ballast, root, tip, sweep, span, thickness, airfrm_in_rad,\n",
    "                          OF, p_ch, T_ch, ke, MM,\n",
    "                          perturbation, \n",
    "                          0.05, True, 0.045, True, True)\n",
    "        x, y, z = sim.raw_states[-1][0][1]\n",
    "        perturbation.append(x)\n",
    "        perturbation.append(y)\n",
    "        perturbation.append(z)\n",
    "        \n",
    "        results.append(perturbation)\n",
    "    print('done simulations!\\n')\n",
    "    \n",
    "    return results"
   ]
  },
  {
   "cell_type": "code",
   "execution_count": 5,
   "metadata": {},
   "outputs": [],
   "source": [
    "def lat_long(df):\n",
    "    array = df.loc[:, ['x', 'y', 'z']]\n",
    "    X = [x for x in array['x']]\n",
    "    Y = [y for y in array['y']]\n",
    "    Z = [z for z in array['z']]\n",
    "    coords = [Environment(None, 1).ECEF_to_geodetic([X[i], Y[i], Z[i]])\n",
    "                                   for i in range(len(array))]\n",
    "    df['lat'] = [coord[0] for coord in coords]\n",
    "    df['long'] = [coord[1] for coord in coords]\n",
    "    df['height'] = [coord[2] for coord in coords]\n",
    "    \n",
    "def handle_data(results):\n",
    "    # landing coordinates\n",
    "    results_df = pd.DataFrame.from_records(results,\n",
    "                                           columns=['deg N', 'deg E', 'Launch Az', 'Launch El', 'Tip-Off',\n",
    "                                                    'Thrust Pitch', 'Thrust Yaw', 'mdot', 'p_e',\n",
    "                                                    'mass', 'drag', 'Wind',\n",
    "                                                    'x', 'y', 'z'])\n",
    "    lat_long(results_df)\n",
    "    print(results_df.describe())\n",
    "    return results_df"
   ]
  },
  {
   "cell_type": "code",
   "execution_count": 6,
   "metadata": {
    "scrolled": false
   },
   "outputs": [
    {
     "name": "stdout",
     "output_type": "stream",
     "text": [
      "            deg N       deg E   Launch Az   Launch El  Thrust Pitch  \\\n",
      "count  100.000000  100.000000  100.000000  100.000000    100.000000   \n",
      "mean    -0.000124   -0.000202    0.034414    0.031812      0.000810   \n",
      "std      0.002724    0.002763    0.317190    0.360150      0.034585   \n",
      "min     -0.007077   -0.006319   -0.608312   -1.173812     -0.102277   \n",
      "25%     -0.001963   -0.001889   -0.161482   -0.186783     -0.027559   \n",
      "50%     -0.000239   -0.000255   -0.005540    0.042110     -0.000942   \n",
      "75%      0.001668    0.001402    0.244786    0.215058      0.026047   \n",
      "max      0.008254    0.005785    0.961040    0.857204      0.095089   \n",
      "\n",
      "       Thrust Yaw        mdot         p_e        mass        drag  \\\n",
      "count  100.000000  100.000000  100.000000  100.000000  100.000000   \n",
      "mean    -0.002749   -0.001024    0.000529    2.545613   -0.000744   \n",
      "std      0.031692    0.018734    0.016645    2.357153    0.016035   \n",
      "min     -0.089852   -0.049756   -0.040095    0.075692   -0.039751   \n",
      "25%     -0.019220   -0.013577   -0.010371    0.785388   -0.013042   \n",
      "50%     -0.000581   -0.000043   -0.000044    2.072532    0.001371   \n",
      "75%      0.016105    0.010764    0.012050    3.329011    0.010561   \n",
      "max      0.065464    0.051735    0.053369   14.293763    0.040004   \n",
      "\n",
      "                  x             y             z         lat        long  \\\n",
      "count  1.000000e+02  1.000000e+02  1.000000e+02  100.000000  100.000000   \n",
      "mean  -1.522389e+06 -5.045652e+06  3.582485e+06   34.384510 -106.789896   \n",
      "std    2.701779e+04  1.439202e+04  1.565376e+04    0.170765    0.311799   \n",
      "min   -1.557920e+06 -5.084887e+06  3.530434e+06   33.817633 -107.112519   \n",
      "25%   -1.539780e+06 -5.056014e+06  3.575346e+06   34.306439 -106.994980   \n",
      "50%   -1.536716e+06 -5.040394e+06  3.587350e+06   34.437542 -106.970397   \n",
      "75%   -1.489153e+06 -5.033155e+06  3.593893e+06   34.509055 -106.408759   \n",
      "max   -1.469588e+06 -5.028287e+06  3.601658e+06   34.594064 -106.146755   \n",
      "\n",
      "            height  \n",
      "count   100.000000  \n",
      "mean   1371.340712  \n",
      "std      17.593320  \n",
      "min    1344.343521  \n",
      "25%    1356.067603  \n",
      "50%    1371.207049  \n",
      "75%    1386.816851  \n",
      "max    1400.617081  \n"
     ]
    }
   ],
   "source": [
    "results = mc_init(num_sims=amount)\n",
    "sim_data = handle_data(results)\n",
    "sim_data.to_csv(path_or_buf='./dispersion_sample_data/sim_data1.csv')"
   ]
  },
  {
   "cell_type": "code",
   "execution_count": 7,
   "metadata": {},
   "outputs": [
    {
     "name": "stdout",
     "output_type": "stream",
     "text": [
      "random perturbations obtained\n",
      "\n",
      "iterations: 0\n",
      "iterations: 10\n",
      "iterations: 20\n",
      "iterations: 30\n",
      "iterations: 40\n",
      "iterations: 50\n",
      "iterations: 60\n",
      "iterations: 70\n",
      "iterations: 80\n",
      "iterations: 90\n",
      "done simulations!\n",
      "\n",
      "            deg N       deg E   Launch Az   Launch El  Thrust Pitch  \\\n",
      "count  100.000000  100.000000  100.000000  100.000000    100.000000   \n",
      "mean     0.000296   -0.000466   -0.053086    0.021562     -0.000514   \n",
      "std      0.002999    0.002565    0.302299    0.357251      0.034457   \n",
      "min     -0.006315   -0.006563   -0.671837   -0.889543     -0.080585   \n",
      "25%     -0.002165   -0.002027   -0.270355   -0.254540     -0.024972   \n",
      "50%      0.000046   -0.000489   -0.090759    0.003695      0.002786   \n",
      "75%      0.002716    0.001322    0.201720    0.288334      0.022449   \n",
      "max      0.009081    0.005910    0.516824    0.891808      0.100240   \n",
      "\n",
      "       Thrust Yaw        mdot         p_e        mass        drag  \\\n",
      "count  100.000000  100.000000  100.000000  100.000000  100.000000   \n",
      "mean    -0.000557    0.000758    0.000679    2.157355    0.003374   \n",
      "std      0.036689    0.017570    0.017401    2.072402    0.018678   \n",
      "min     -0.106366   -0.050811   -0.037475    0.039241   -0.045131   \n",
      "25%     -0.025619   -0.009650   -0.010789    0.629351   -0.010052   \n",
      "50%     -0.000366    0.001454   -0.000528    1.635320    0.000188   \n",
      "75%      0.023107    0.009291    0.011396    3.016052    0.018087   \n",
      "max      0.110321    0.051982    0.050650   10.801479    0.051329   \n",
      "\n",
      "                  x             y             z         lat        long  \\\n",
      "count  1.000000e+02  1.000000e+02  1.000000e+02  100.000000  100.000000   \n",
      "mean  -1.524377e+06 -5.044202e+06  3.583673e+06   34.397518 -106.815183   \n",
      "std    2.559572e+04  1.534521e+04  1.731640e+04    0.188887    0.297889   \n",
      "min   -1.557436e+06 -5.086342e+06  3.534326e+06   33.859987 -107.102735   \n",
      "25%   -1.539762e+06 -5.057033e+06  3.575214e+06   34.305009 -107.000627   \n",
      "50%   -1.536100e+06 -5.035439e+06  3.591202e+06   34.479599 -106.969600   \n",
      "75%   -1.498027e+06 -5.031276e+06  3.596208e+06   34.534280 -106.476667   \n",
      "max   -1.465056e+06 -5.027756e+06  3.601779e+06   34.595416 -106.078255   \n",
      "\n",
      "            height  \n",
      "count   100.000000  \n",
      "mean   1371.097815  \n",
      "std      17.251348  \n",
      "min    1344.230300  \n",
      "25%    1355.966349  \n",
      "50%    1373.142486  \n",
      "75%    1387.326369  \n",
      "max    1400.356063  \n"
     ]
    }
   ],
   "source": [
    "results = mc_init(num_sims=amount)\n",
    "sim_data = handle_data(results)\n",
    "sim_data.to_csv(path_or_buf='./dispersion_sample_data/sim_data2.csv')"
   ]
  },
  {
   "cell_type": "code",
   "execution_count": 8,
   "metadata": {},
   "outputs": [
    {
     "name": "stdout",
     "output_type": "stream",
     "text": [
      "random perturbations obtained\n",
      "\n",
      "iterations: 0\n",
      "iterations: 10\n",
      "iterations: 20\n",
      "iterations: 30\n",
      "iterations: 40\n",
      "iterations: 50\n",
      "iterations: 60\n",
      "iterations: 70\n",
      "iterations: 80\n",
      "iterations: 90\n",
      "done simulations!\n",
      "\n",
      "            deg N       deg E   Launch Az   Launch El  Thrust Pitch  \\\n",
      "count  100.000000  100.000000  100.000000  100.000000    100.000000   \n",
      "mean     0.000105   -0.000035    0.034149    0.034969     -0.006497   \n",
      "std      0.002618    0.002742    0.301620    0.339893      0.033989   \n",
      "min     -0.005571   -0.006930   -0.681254   -0.761620     -0.079309   \n",
      "25%     -0.001884   -0.001718   -0.206955   -0.175747     -0.029068   \n",
      "50%     -0.000044   -0.000037    0.044794   -0.010327     -0.004641   \n",
      "75%      0.002201    0.001617    0.282479    0.290110      0.013340   \n",
      "max      0.005915    0.006820    0.655535    0.914575      0.082844   \n",
      "\n",
      "       Thrust Yaw        mdot         p_e        mass        drag  \\\n",
      "count  100.000000  100.000000  100.000000  100.000000  100.000000   \n",
      "mean    -0.003996   -0.001589    0.000771    2.333587    0.001330   \n",
      "std      0.035598    0.015770    0.015703    2.368922    0.015998   \n",
      "min     -0.127586   -0.030561   -0.038132    0.003871   -0.033392   \n",
      "25%     -0.023443   -0.013003   -0.009568    0.713924   -0.009973   \n",
      "50%      0.001034   -0.001608   -0.001300    1.501340   -0.000473   \n",
      "75%      0.020695    0.008436    0.012384    3.149027    0.013405   \n",
      "max      0.068904    0.035988    0.040336   11.113550    0.036832   \n",
      "\n",
      "                  x             y             z         lat        long  \\\n",
      "count  1.000000e+02  1.000000e+02  1.000000e+02  100.000000  100.000000   \n",
      "mean  -1.522931e+06 -5.045672e+06  3.582225e+06   34.381663 -106.795631   \n",
      "std    2.687426e+04  1.618362e+04  1.631764e+04    0.178037    0.318632   \n",
      "min   -1.548394e+06 -5.088605e+06  3.540924e+06   33.931472 -107.085950   \n",
      "25%   -1.540560e+06 -5.055819e+06  3.572785e+06   34.278351 -107.004317   \n",
      "50%   -1.536610e+06 -5.039183e+06  3.587396e+06   34.437858 -106.970930   \n",
      "75%   -1.490935e+06 -5.032171e+06  3.594646e+06   34.517226 -106.424357   \n",
      "max   -1.467246e+06 -5.027139e+06  3.601511e+06   34.592258 -106.094839   \n",
      "\n",
      "            height  \n",
      "count   100.000000  \n",
      "mean   1374.384821  \n",
      "std      16.161708  \n",
      "min    1344.493398  \n",
      "25%    1361.380266  \n",
      "50%    1375.921498  \n",
      "75%    1387.647223  \n",
      "max    1400.884445  \n"
     ]
    }
   ],
   "source": [
    "results = mc_init(num_sims=amount)\n",
    "sim_data = handle_data(results)\n",
    "sim_data.to_csv(path_or_buf='./dispersion_sample_data/sim_data3.csv')"
   ]
  },
  {
   "cell_type": "code",
   "execution_count": 9,
   "metadata": {},
   "outputs": [
    {
     "name": "stdout",
     "output_type": "stream",
     "text": [
      "random perturbations obtained\n",
      "\n",
      "iterations: 0\n",
      "iterations: 10\n",
      "iterations: 20\n",
      "iterations: 30\n",
      "iterations: 40\n",
      "iterations: 50\n",
      "iterations: 60\n",
      "iterations: 70\n",
      "iterations: 80\n",
      "iterations: 90\n",
      "done simulations!\n",
      "\n",
      "            deg N       deg E   Launch Az   Launch El  Thrust Pitch  \\\n",
      "count  100.000000  100.000000  100.000000  100.000000    100.000000   \n",
      "mean    -0.000038   -0.000310    0.072363   -0.011925     -0.004744   \n",
      "std      0.002913    0.003065    0.337922    0.357207      0.031978   \n",
      "min     -0.007139   -0.007930   -0.919341   -0.715641     -0.111476   \n",
      "25%     -0.001985   -0.002666   -0.188051   -0.301481     -0.023906   \n",
      "50%     -0.000042   -0.000425    0.021493   -0.082138     -0.000822   \n",
      "75%      0.002275    0.001931    0.324132    0.211557      0.015244   \n",
      "max      0.006817    0.007342    0.956446    0.885137      0.066249   \n",
      "\n",
      "       Thrust Yaw        mdot         p_e        mass        drag  \\\n",
      "count  100.000000  100.000000  100.000000  100.000000  100.000000   \n",
      "mean     0.003633   -0.001135   -0.000248    2.556228    0.003349   \n",
      "std      0.032765    0.015314    0.018626    2.446053    0.017061   \n",
      "min     -0.073312   -0.039521   -0.042978    0.100457   -0.051371   \n",
      "25%     -0.012907   -0.010847   -0.014850    0.860859   -0.005808   \n",
      "50%      0.004484   -0.001345   -0.002504    2.084395    0.003697   \n",
      "75%      0.025476    0.010487    0.012680    3.509120    0.013499   \n",
      "max      0.085435    0.031008    0.055619   13.085044    0.052602   \n",
      "\n",
      "                  x             y             z         lat        long  \\\n",
      "count  1.000000e+02  1.000000e+02  1.000000e+02  100.000000  100.000000   \n",
      "mean  -1.524884e+06 -5.044299e+06  3.583337e+06   34.393803 -106.820163   \n",
      "std    2.549509e+04  1.464107e+04  1.572014e+04    0.171523    0.297461   \n",
      "min   -1.558474e+06 -5.079906e+06  3.539692e+06   33.918187 -107.102428   \n",
      "25%   -1.539409e+06 -5.055799e+06  3.571075e+06   34.259866 -106.990565   \n",
      "50%   -1.535879e+06 -5.037289e+06  3.589358e+06   34.459431 -106.965371   \n",
      "75%   -1.531131e+06 -5.033019e+06  3.594769e+06   34.518599 -106.910037   \n",
      "max   -1.467226e+06 -5.025054e+06  3.604047e+06   34.620214 -106.119355   \n",
      "\n",
      "            height  \n",
      "count   100.000000  \n",
      "mean   1372.971263  \n",
      "std      16.688090  \n",
      "min    1344.120147  \n",
      "25%    1359.103150  \n",
      "50%    1376.523734  \n",
      "75%    1386.304744  \n",
      "max    1400.926561  \n"
     ]
    }
   ],
   "source": [
    "results = mc_init(num_sims=amount)\n",
    "sim_data = handle_data(results)\n",
    "sim_data.to_csv(path_or_buf='./dispersion_sample_data/sim_data4.csv')"
   ]
  },
  {
   "cell_type": "code",
   "execution_count": 10,
   "metadata": {},
   "outputs": [
    {
     "name": "stdout",
     "output_type": "stream",
     "text": [
      "random perturbations obtained\n",
      "\n",
      "iterations: 0\n"
     ]
    },
    {
     "ename": "KeyboardInterrupt",
     "evalue": "",
     "output_type": "error",
     "traceback": [
      "\u001b[0;31m---------------------------------------------------------------------------\u001b[0m",
      "\u001b[0;31mKeyboardInterrupt\u001b[0m                         Traceback (most recent call last)",
      "\u001b[0;32m<ipython-input-10-771a1cdc5c4e>\u001b[0m in \u001b[0;36m<module>\u001b[0;34m\u001b[0m\n\u001b[0;32m----> 1\u001b[0;31m \u001b[0mresults\u001b[0m \u001b[0;34m=\u001b[0m \u001b[0mmc_init\u001b[0m\u001b[0;34m(\u001b[0m\u001b[0mnum_sims\u001b[0m\u001b[0;34m=\u001b[0m\u001b[0mamount\u001b[0m\u001b[0;34m)\u001b[0m\u001b[0;34m\u001b[0m\u001b[0;34m\u001b[0m\u001b[0m\n\u001b[0m\u001b[1;32m      2\u001b[0m \u001b[0msim_data\u001b[0m \u001b[0;34m=\u001b[0m \u001b[0mhandle_data\u001b[0m\u001b[0;34m(\u001b[0m\u001b[0mresults\u001b[0m\u001b[0;34m)\u001b[0m\u001b[0;34m\u001b[0m\u001b[0;34m\u001b[0m\u001b[0m\n\u001b[1;32m      3\u001b[0m \u001b[0msim_data\u001b[0m\u001b[0;34m.\u001b[0m\u001b[0mto_csv\u001b[0m\u001b[0;34m(\u001b[0m\u001b[0mpath_or_buf\u001b[0m\u001b[0;34m=\u001b[0m\u001b[0;34m'./dispersion_sample_data/sim_data5.csv'\u001b[0m\u001b[0;34m)\u001b[0m\u001b[0;34m\u001b[0m\u001b[0;34m\u001b[0m\u001b[0m\n",
      "\u001b[0;32m<ipython-input-2-1c62d07f35e6>\u001b[0m in \u001b[0;36mmc_init\u001b[0;34m(num_sims)\u001b[0m\n\u001b[1;32m     30\u001b[0m                           \u001b[0mOF\u001b[0m\u001b[0;34m,\u001b[0m \u001b[0mp_ch\u001b[0m\u001b[0;34m,\u001b[0m \u001b[0mT_ch\u001b[0m\u001b[0;34m,\u001b[0m \u001b[0mke\u001b[0m\u001b[0;34m,\u001b[0m \u001b[0mMM\u001b[0m\u001b[0;34m,\u001b[0m\u001b[0;34m\u001b[0m\u001b[0;34m\u001b[0m\u001b[0m\n\u001b[1;32m     31\u001b[0m                           \u001b[0mperturbation\u001b[0m\u001b[0;34m,\u001b[0m\u001b[0;34m\u001b[0m\u001b[0;34m\u001b[0m\u001b[0m\n\u001b[0;32m---> 32\u001b[0;31m                           0.05, True, 0.045, True, True)\n\u001b[0m\u001b[1;32m     33\u001b[0m         \u001b[0mx\u001b[0m\u001b[0;34m,\u001b[0m \u001b[0my\u001b[0m\u001b[0;34m,\u001b[0m \u001b[0mz\u001b[0m \u001b[0;34m=\u001b[0m \u001b[0msim\u001b[0m\u001b[0;34m.\u001b[0m\u001b[0mraw_states\u001b[0m\u001b[0;34m[\u001b[0m\u001b[0;34m-\u001b[0m\u001b[0;36m1\u001b[0m\u001b[0;34m]\u001b[0m\u001b[0;34m[\u001b[0m\u001b[0;36m0\u001b[0m\u001b[0;34m]\u001b[0m\u001b[0;34m[\u001b[0m\u001b[0;36m1\u001b[0m\u001b[0;34m]\u001b[0m\u001b[0;34m\u001b[0m\u001b[0;34m\u001b[0m\u001b[0m\n\u001b[1;32m     34\u001b[0m         \u001b[0mperturbation\u001b[0m\u001b[0;34m.\u001b[0m\u001b[0mappend\u001b[0m\u001b[0;34m(\u001b[0m\u001b[0mx\u001b[0m\u001b[0;34m)\u001b[0m\u001b[0;34m\u001b[0m\u001b[0;34m\u001b[0m\u001b[0m\n",
      "\u001b[0;32m<ipython-input-1-70704272676e>\u001b[0m in \u001b[0;36mtrajectory\u001b[0;34m(m_prop, mdot, p_e, throttle_window, min_throttle, rcs_mdot, rcs_p_e, rcs_p_ch, ballast, root, tip, sweep, span, thickness, airfrm_in_rad, OF, p_ch, T_ch, ke, MM, perturbations, dt, adaptive, tol, descend, early_return)\u001b[0m\n\u001b[1;32m     37\u001b[0m     \u001b[0mLV4\u001b[0m\u001b[0;34m.\u001b[0m\u001b[0msum_parts\u001b[0m\u001b[0;34m(\u001b[0m\u001b[0;34m)\u001b[0m\u001b[0;34m\u001b[0m\u001b[0;34m\u001b[0m\u001b[0m\n\u001b[1;32m     38\u001b[0m     \u001b[0mLV4\u001b[0m\u001b[0;34m.\u001b[0m\u001b[0mdrag_perturb\u001b[0m \u001b[0;34m+=\u001b[0m \u001b[0mperturbations\u001b[0m\u001b[0;34m[\u001b[0m\u001b[0;36m10\u001b[0m\u001b[0;34m]\u001b[0m\u001b[0;34m\u001b[0m\u001b[0;34m\u001b[0m\u001b[0m\n\u001b[0;32m---> 39\u001b[0;31m     \u001b[0mstates\u001b[0m \u001b[0;34m=\u001b[0m \u001b[0mintegration\u001b[0m\u001b[0;34m(\u001b[0m\u001b[0menv\u001b[0m\u001b[0;34m,\u001b[0m \u001b[0mLV4\u001b[0m\u001b[0;34m,\u001b[0m \u001b[0;36m0\u001b[0m \u001b[0;34m+\u001b[0m \u001b[0mperturbations\u001b[0m\u001b[0;34m[\u001b[0m\u001b[0;36m2\u001b[0m\u001b[0;34m]\u001b[0m\u001b[0;34m,\u001b[0m \u001b[0;36m85\u001b[0m \u001b[0;34m+\u001b[0m \u001b[0mperturbations\u001b[0m\u001b[0;34m[\u001b[0m\u001b[0;36m3\u001b[0m\u001b[0;34m]\u001b[0m\u001b[0;34m,\u001b[0m \u001b[0mdt\u001b[0m\u001b[0;34m,\u001b[0m \u001b[0mdescend\u001b[0m\u001b[0;34m)\u001b[0m\u001b[0;34m\u001b[0m\u001b[0;34m\u001b[0m\u001b[0m\n\u001b[0m\u001b[1;32m     40\u001b[0m \u001b[0;34m\u001b[0m\u001b[0m\n\u001b[1;32m     41\u001b[0m     \u001b[0msim\u001b[0m \u001b[0;34m=\u001b[0m \u001b[0mSimpleNamespace\u001b[0m\u001b[0;34m(\u001b[0m\u001b[0;34m)\u001b[0m\u001b[0;34m\u001b[0m\u001b[0;34m\u001b[0m\u001b[0m\n",
      "\u001b[0;32m<ipython-input-1-c254e05f1993>\u001b[0m in \u001b[0;36mintegration\u001b[0;34m(env, rkt, azimuth, elevation, dt, descend)\u001b[0m\n\u001b[1;32m    111\u001b[0m     \u001b[0mtime_step\u001b[0m\u001b[0;34m(\u001b[0m\u001b[0menv\u001b[0m\u001b[0;34m,\u001b[0m \u001b[0mrkt\u001b[0m\u001b[0;34m,\u001b[0m \u001b[0mstate_list\u001b[0m\u001b[0;34m[\u001b[0m\u001b[0;34m-\u001b[0m\u001b[0;36m1\u001b[0m\u001b[0;34m]\u001b[0m\u001b[0;34m[\u001b[0m\u001b[0;36m0\u001b[0m\u001b[0;34m]\u001b[0m\u001b[0;34m,\u001b[0m \u001b[0mrkt\u001b[0m\u001b[0;34m.\u001b[0m\u001b[0mdt\u001b[0m\u001b[0;34m,\u001b[0m \u001b[0mstate_list\u001b[0m\u001b[0;34m)\u001b[0m\u001b[0;34m\u001b[0m\u001b[0;34m\u001b[0m\u001b[0m\n\u001b[1;32m    112\u001b[0m     \u001b[0;32mwhile\u001b[0m \u001b[0mstill_running\u001b[0m\u001b[0;34m(\u001b[0m\u001b[0mstate_list\u001b[0m\u001b[0;34m,\u001b[0m \u001b[0mrkt\u001b[0m\u001b[0;34m,\u001b[0m \u001b[0menv\u001b[0m\u001b[0;34m,\u001b[0m \u001b[0mdescend\u001b[0m\u001b[0;34m)\u001b[0m\u001b[0;34m:\u001b[0m\u001b[0;34m\u001b[0m\u001b[0;34m\u001b[0m\u001b[0m\n\u001b[0;32m--> 113\u001b[0;31m         \u001b[0mtime_step\u001b[0m\u001b[0;34m(\u001b[0m\u001b[0menv\u001b[0m\u001b[0;34m,\u001b[0m \u001b[0mrkt\u001b[0m\u001b[0;34m,\u001b[0m \u001b[0mstate_list\u001b[0m\u001b[0;34m[\u001b[0m\u001b[0;34m-\u001b[0m\u001b[0;36m1\u001b[0m\u001b[0;34m]\u001b[0m\u001b[0;34m[\u001b[0m\u001b[0;36m0\u001b[0m\u001b[0;34m]\u001b[0m\u001b[0;34m,\u001b[0m \u001b[0mrkt\u001b[0m\u001b[0;34m.\u001b[0m\u001b[0mdt\u001b[0m\u001b[0;34m,\u001b[0m \u001b[0mstate_list\u001b[0m\u001b[0;34m)\u001b[0m\u001b[0;34m\u001b[0m\u001b[0;34m\u001b[0m\u001b[0m\n\u001b[0m\u001b[1;32m    114\u001b[0m \u001b[0;34m\u001b[0m\u001b[0m\n\u001b[1;32m    115\u001b[0m     \u001b[0;32mreturn\u001b[0m \u001b[0mstate_list\u001b[0m\u001b[0;34m\u001b[0m\u001b[0;34m\u001b[0m\u001b[0m\n",
      "\u001b[0;32m<ipython-input-1-c254e05f1993>\u001b[0m in \u001b[0;36mtime_step\u001b[0;34m(env, rkt, state, dt, state_list)\u001b[0m\n\u001b[1;32m      9\u001b[0m \u001b[0;34m\u001b[0m\u001b[0m\n\u001b[1;32m     10\u001b[0m     \u001b[0;32mif\u001b[0m \u001b[0mrkt\u001b[0m\u001b[0;34m.\u001b[0m\u001b[0madaptive\u001b[0m\u001b[0;34m:\u001b[0m\u001b[0;34m\u001b[0m\u001b[0;34m\u001b[0m\u001b[0m\n\u001b[0;32m---> 11\u001b[0;31m         \u001b[0mupdate\u001b[0m \u001b[0;34m=\u001b[0m \u001b[0madaptive_runge_kutta\u001b[0m\u001b[0;34m(\u001b[0m\u001b[0menv\u001b[0m\u001b[0;34m,\u001b[0m \u001b[0mrkt\u001b[0m\u001b[0;34m,\u001b[0m \u001b[0mstate\u001b[0m\u001b[0;34m,\u001b[0m \u001b[0mparameters\u001b[0m\u001b[0;34m,\u001b[0m \u001b[0mdt\u001b[0m\u001b[0;34m)\u001b[0m\u001b[0;34m\u001b[0m\u001b[0;34m\u001b[0m\u001b[0m\n\u001b[0m\u001b[1;32m     12\u001b[0m     \u001b[0;32melse\u001b[0m\u001b[0;34m:\u001b[0m\u001b[0;34m\u001b[0m\u001b[0;34m\u001b[0m\u001b[0m\n\u001b[1;32m     13\u001b[0m         \u001b[0mupdate\u001b[0m \u001b[0;34m=\u001b[0m \u001b[0mrunge_kutta\u001b[0m\u001b[0;34m(\u001b[0m\u001b[0menv\u001b[0m\u001b[0;34m,\u001b[0m \u001b[0mrkt\u001b[0m\u001b[0;34m,\u001b[0m \u001b[0mstate\u001b[0m\u001b[0;34m,\u001b[0m \u001b[0mparameters\u001b[0m\u001b[0;34m,\u001b[0m \u001b[0mdt\u001b[0m\u001b[0;34m)\u001b[0m\u001b[0;34m\u001b[0m\u001b[0;34m\u001b[0m\u001b[0m\n",
      "\u001b[0;32m<ipython-input-1-330638f0ce26>\u001b[0m in \u001b[0;36madaptive_runge_kutta\u001b[0;34m(env, rkt, state, parameters, dt)\u001b[0m\n\u001b[1;32m     36\u001b[0m     \u001b[0mstate_2\u001b[0m\u001b[0;34m[\u001b[0m\u001b[0;36m2\u001b[0m\u001b[0;34m]\u001b[0m \u001b[0;34m=\u001b[0m \u001b[0mnormalize\u001b[0m\u001b[0;34m(\u001b[0m\u001b[0mstate_2\u001b[0m\u001b[0;34m[\u001b[0m\u001b[0;36m2\u001b[0m\u001b[0;34m]\u001b[0m\u001b[0;34m)\u001b[0m\u001b[0;34m\u001b[0m\u001b[0;34m\u001b[0m\u001b[0m\n\u001b[1;32m     37\u001b[0m     \u001b[0mF2\u001b[0m \u001b[0;34m=\u001b[0m \u001b[0mdynamics\u001b[0m\u001b[0;34m(\u001b[0m\u001b[0menv\u001b[0m\u001b[0;34m,\u001b[0m \u001b[0mrkt\u001b[0m\u001b[0;34m,\u001b[0m \u001b[0mstate_2\u001b[0m\u001b[0;34m,\u001b[0m \u001b[0mparameters\u001b[0m\u001b[0;34m)\u001b[0m\u001b[0;34m\u001b[0m\u001b[0;34m\u001b[0m\u001b[0m\n\u001b[0;32m---> 38\u001b[0;31m     \u001b[0mk2\u001b[0m \u001b[0;34m=\u001b[0m \u001b[0mderivatives\u001b[0m\u001b[0;34m(\u001b[0m\u001b[0mstate_2\u001b[0m\u001b[0;34m,\u001b[0m \u001b[0;34m[\u001b[0m\u001b[0mmdot\u001b[0m\u001b[0;34m,\u001b[0m \u001b[0mF2\u001b[0m\u001b[0;34m[\u001b[0m\u001b[0;36m3\u001b[0m\u001b[0;34m]\u001b[0m\u001b[0;34m,\u001b[0m \u001b[0mrkt\u001b[0m\u001b[0;34m.\u001b[0m\u001b[0mmoment\u001b[0m\u001b[0;34m,\u001b[0m \u001b[0mF2\u001b[0m\u001b[0;34m[\u001b[0m\u001b[0;36m0\u001b[0m\u001b[0;34m]\u001b[0m\u001b[0;34m,\u001b[0m \u001b[0mF2\u001b[0m\u001b[0;34m[\u001b[0m\u001b[0;36m1\u001b[0m\u001b[0;34m]\u001b[0m\u001b[0;34m,\u001b[0m \u001b[0mF2\u001b[0m\u001b[0;34m[\u001b[0m\u001b[0;36m2\u001b[0m\u001b[0;34m]\u001b[0m\u001b[0;34m]\u001b[0m\u001b[0;34m)\u001b[0m\u001b[0;34m\u001b[0m\u001b[0;34m\u001b[0m\u001b[0m\n\u001b[0m\u001b[1;32m     39\u001b[0m \u001b[0;34m\u001b[0m\u001b[0m\n\u001b[1;32m     40\u001b[0m     state_3 = [sum(pair) for pair in\n",
      "\u001b[0;32m<ipython-input-1-021262c25798>\u001b[0m in \u001b[0;36mderivatives\u001b[0;34m(state, parameters)\u001b[0m\n\u001b[1;32m     24\u001b[0m                      \u001b[0mdq_dt\u001b[0m\u001b[0;34m(\u001b[0m\u001b[0mstate\u001b[0m\u001b[0;34m[\u001b[0m\u001b[0;36m2\u001b[0m\u001b[0;34m]\u001b[0m\u001b[0;34m,\u001b[0m \u001b[0mstate\u001b[0m\u001b[0;34m[\u001b[0m\u001b[0;36m4\u001b[0m\u001b[0;34m]\u001b[0m\u001b[0;34m)\u001b[0m\u001b[0;34m,\u001b[0m\u001b[0;34m\u001b[0m\u001b[0;34m\u001b[0m\u001b[0m\n\u001b[1;32m     25\u001b[0m                      \u001b[0mdv_dt\u001b[0m\u001b[0;34m(\u001b[0m\u001b[0mstate\u001b[0m\u001b[0;34m[\u001b[0m\u001b[0;36m0\u001b[0m\u001b[0;34m]\u001b[0m\u001b[0;34m,\u001b[0m \u001b[0mparameters\u001b[0m\u001b[0;34m[\u001b[0m\u001b[0;36m3\u001b[0m\u001b[0;34m]\u001b[0m\u001b[0;34m,\u001b[0m \u001b[0mparameters\u001b[0m\u001b[0;34m[\u001b[0m\u001b[0;36m4\u001b[0m\u001b[0;34m]\u001b[0m\u001b[0;34m)\u001b[0m\u001b[0;34m,\u001b[0m\u001b[0;34m\u001b[0m\u001b[0;34m\u001b[0m\u001b[0m\n\u001b[0;32m---> 26\u001b[0;31m                      dw_dt(parameters[2], state[4], parameters[5])], dtype=object)\n\u001b[0m\u001b[1;32m     27\u001b[0m \u001b[0;34m\u001b[0m\u001b[0m\n\u001b[1;32m     28\u001b[0m \u001b[0;32mdef\u001b[0m \u001b[0mdynamics\u001b[0m\u001b[0;34m(\u001b[0m\u001b[0menv\u001b[0m\u001b[0;34m,\u001b[0m \u001b[0mrkt\u001b[0m\u001b[0;34m,\u001b[0m \u001b[0mstate\u001b[0m\u001b[0;34m,\u001b[0m \u001b[0mparam\u001b[0m\u001b[0;34m)\u001b[0m\u001b[0;34m:\u001b[0m\u001b[0;34m\u001b[0m\u001b[0;34m\u001b[0m\u001b[0m\n",
      "\u001b[0;32m<ipython-input-1-021262c25798>\u001b[0m in \u001b[0;36mdw_dt\u001b[0;34m(J_body, w, torque)\u001b[0m\n\u001b[1;32m     18\u001b[0m \u001b[0;34m\u001b[0m\u001b[0m\n\u001b[1;32m     19\u001b[0m     \u001b[0;32mdef\u001b[0m \u001b[0mdw_dt\u001b[0m\u001b[0;34m(\u001b[0m\u001b[0mJ_body\u001b[0m\u001b[0;34m,\u001b[0m \u001b[0mw\u001b[0m\u001b[0;34m,\u001b[0m \u001b[0mtorque\u001b[0m\u001b[0;34m)\u001b[0m\u001b[0;34m:\u001b[0m\u001b[0;34m\u001b[0m\u001b[0;34m\u001b[0m\u001b[0m\n\u001b[0;32m---> 20\u001b[0;31m         \u001b[0;32mreturn\u001b[0m \u001b[0mnp\u001b[0m\u001b[0;34m.\u001b[0m\u001b[0mlinalg\u001b[0m\u001b[0;34m.\u001b[0m\u001b[0minv\u001b[0m\u001b[0;34m(\u001b[0m\u001b[0mJ_body\u001b[0m\u001b[0;34m)\u001b[0m\u001b[0;34m.\u001b[0m\u001b[0mdot\u001b[0m\u001b[0;34m(\u001b[0m\u001b[0mtorque\u001b[0m \u001b[0;34m-\u001b[0m \u001b[0mnp\u001b[0m\u001b[0;34m.\u001b[0m\u001b[0mcross\u001b[0m\u001b[0;34m(\u001b[0m\u001b[0mw\u001b[0m\u001b[0;34m,\u001b[0m \u001b[0mJ_body\u001b[0m\u001b[0;34m.\u001b[0m\u001b[0mdot\u001b[0m\u001b[0;34m(\u001b[0m\u001b[0mw\u001b[0m\u001b[0;34m)\u001b[0m\u001b[0;34m)\u001b[0m\u001b[0;34m)\u001b[0m\u001b[0;34m\u001b[0m\u001b[0;34m\u001b[0m\u001b[0m\n\u001b[0m\u001b[1;32m     21\u001b[0m \u001b[0;34m\u001b[0m\u001b[0m\n\u001b[1;32m     22\u001b[0m     return np.array([dm_dt(parameters[0], parameters[1]),\n",
      "\u001b[0;32m<__array_function__ internals>\u001b[0m in \u001b[0;36minv\u001b[0;34m(*args, **kwargs)\u001b[0m\n",
      "\u001b[0;32m~/.local/lib/python3.7/site-packages/numpy/linalg/linalg.py\u001b[0m in \u001b[0;36minv\u001b[0;34m(a)\u001b[0m\n\u001b[1;32m    544\u001b[0m     \u001b[0msignature\u001b[0m \u001b[0;34m=\u001b[0m \u001b[0;34m'D->D'\u001b[0m \u001b[0;32mif\u001b[0m \u001b[0misComplexType\u001b[0m\u001b[0;34m(\u001b[0m\u001b[0mt\u001b[0m\u001b[0;34m)\u001b[0m \u001b[0;32melse\u001b[0m \u001b[0;34m'd->d'\u001b[0m\u001b[0;34m\u001b[0m\u001b[0;34m\u001b[0m\u001b[0m\n\u001b[1;32m    545\u001b[0m     \u001b[0mextobj\u001b[0m \u001b[0;34m=\u001b[0m \u001b[0mget_linalg_error_extobj\u001b[0m\u001b[0;34m(\u001b[0m\u001b[0m_raise_linalgerror_singular\u001b[0m\u001b[0;34m)\u001b[0m\u001b[0;34m\u001b[0m\u001b[0;34m\u001b[0m\u001b[0m\n\u001b[0;32m--> 546\u001b[0;31m     \u001b[0mainv\u001b[0m \u001b[0;34m=\u001b[0m \u001b[0m_umath_linalg\u001b[0m\u001b[0;34m.\u001b[0m\u001b[0minv\u001b[0m\u001b[0;34m(\u001b[0m\u001b[0ma\u001b[0m\u001b[0;34m,\u001b[0m \u001b[0msignature\u001b[0m\u001b[0;34m=\u001b[0m\u001b[0msignature\u001b[0m\u001b[0;34m,\u001b[0m \u001b[0mextobj\u001b[0m\u001b[0;34m=\u001b[0m\u001b[0mextobj\u001b[0m\u001b[0;34m)\u001b[0m\u001b[0;34m\u001b[0m\u001b[0;34m\u001b[0m\u001b[0m\n\u001b[0m\u001b[1;32m    547\u001b[0m     \u001b[0;32mreturn\u001b[0m \u001b[0mwrap\u001b[0m\u001b[0;34m(\u001b[0m\u001b[0mainv\u001b[0m\u001b[0;34m.\u001b[0m\u001b[0mastype\u001b[0m\u001b[0;34m(\u001b[0m\u001b[0mresult_t\u001b[0m\u001b[0;34m,\u001b[0m \u001b[0mcopy\u001b[0m\u001b[0;34m=\u001b[0m\u001b[0;32mFalse\u001b[0m\u001b[0;34m)\u001b[0m\u001b[0;34m)\u001b[0m\u001b[0;34m\u001b[0m\u001b[0;34m\u001b[0m\u001b[0m\n\u001b[1;32m    548\u001b[0m \u001b[0;34m\u001b[0m\u001b[0m\n",
      "\u001b[0;31mKeyboardInterrupt\u001b[0m: "
     ]
    }
   ],
   "source": [
    "results = mc_init(num_sims=amount)\n",
    "sim_data = handle_data(results)\n",
    "sim_data.to_csv(path_or_buf='./dispersion_sample_data/sim_data5.csv')"
   ]
  },
  {
   "cell_type": "code",
   "execution_count": null,
   "metadata": {},
   "outputs": [],
   "source": []
  }
 ],
 "metadata": {
  "kernelspec": {
   "display_name": "Python 3",
   "language": "python",
   "name": "python3"
  },
  "language_info": {
   "codemirror_mode": {
    "name": "ipython",
    "version": 3
   },
   "file_extension": ".py",
   "mimetype": "text/x-python",
   "name": "python",
   "nbconvert_exporter": "python",
   "pygments_lexer": "ipython3",
   "version": "3.7.4"
  }
 },
 "nbformat": 4,
 "nbformat_minor": 2
}
