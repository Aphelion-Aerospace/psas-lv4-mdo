{
 "cells": [
  {
   "cell_type": "code",
   "execution_count": 1,
   "metadata": {},
   "outputs": [],
   "source": [
    "from rocketcea.cea_obj_w_units import CEA_Obj\n",
    "from rocketcea.cea_obj import add_new_fuel\n",
    "import numpy as np\n",
    "from scipy.optimize import minimize"
   ]
  },
  {
   "cell_type": "code",
   "execution_count": 2,
   "metadata": {},
   "outputs": [],
   "source": [
    "allvectors = []               # array for all design vecs, global variable\n",
    "allobjfun = []                # array for tracking objective function evaluations"
   ]
  },
  {
   "cell_type": "code",
   "execution_count": 3,
   "metadata": {},
   "outputs": [],
   "source": [
    "def objective(var, cons):\n",
    "    return (var/cons)**2 / 2\n",
    "def exterior(var, cons, good_if_less_than=False):\n",
    "    if good_if_less_than:\n",
    "        return np.max([0, var/cons - 1])**2 / 2\n",
    "    else:\n",
    "        return np.max([0, -(var/cons - 1)])**2 / 2\n",
    "def proportion(amount, ratio):\n",
    "    top = amount * ratio/(1 + ratio)\n",
    "    bottom = amount * 1/(1 + ratio)\n",
    "    return top, bottom"
   ]
  },
  {
   "cell_type": "code",
   "execution_count": 4,
   "metadata": {},
   "outputs": [],
   "source": [
    "def get_propellant_properties(alc_wt, of_ratio, p_ch, exp_ratio):\n",
    "    ipa_wt = min(alc_wt, 99)\n",
    "    eth_ratio = 21.11\n",
    "    alc_wt = min(alc_wt, 99.5)\n",
    "    eth_wt1, eth_wt2 = proportion(alc_wt, eth_ratio)\n",
    "    ipa_str = '''\n",
    "    fuel C3H8O-2propanol C 3 H 8 O 1    wt%=''' + str(ipa_wt) + '''\n",
    "    h,cal=-65133.     t(k)=298.15   rho,g/cc=0.786\n",
    "    fuel water H 2 O 1  wt%=''' + str(100 - ipa_wt) + '''\n",
    "    h,cal=-68308.  t(k)=298.15 rho,g/cc=0.9998\n",
    "    '''\n",
    "    eth_str = '''\n",
    "    fuel C2H5OH(L)   C 2 H 6 O 1       wt%=''' + str(eth_wt1) + '''\n",
    "    h,cal=-66370.0      t(k)=298.15       rho,g/cc=0.789\n",
    "    fuel C3H8O-2propanol C 3 H 8 O 1    wt%=''' + str(eth_wt2) + '''\n",
    "    h,cal=-65133.     t(k)=298.15   rho,g/cc=0.786\n",
    "    fuel water H 2 O 1  wt%=''' + str(100 - alc_wt) + '''\n",
    "    h,cal=-68308.  t(k)=298.15 rho,g/cc=0.9998\n",
    "    '''\n",
    "    add_new_fuel('LV4_Fuel', ipa_str)\n",
    "    #add_new_fuel('LV4_Fuel', eth_str)\n",
    "    PROPELLANT = CEA_Obj(oxName='LOX', fuelName='LV4_Fuel',\n",
    "                        pressure_units='Pa', temperature_units='K', cstar_units='m/s',\n",
    "                         density_units='kg/m^3', isp_units='sec', specific_heat_units='J/kg-K')\n",
    "    isp = PROPELLANT.get_Isp(Pc=p_ch, MR=of_ratio, eps=exp_ratio)\n",
    "    IspVac, Cstar, Tc, MW, gamma = PROPELLANT.get_IvacCstrTc_ChmMwGam(Pc=p_ch, MR=of_ratio, eps=exp_ratio)\n",
    "    return [isp, IspVac, Cstar, Tc, MW, gamma]\n",
    "\n",
    "def prop_cost(x):\n",
    "    ipa_wt, of_ratio, p_ch, exp_ratio = x\n",
    "    ipa_wt = 64.8\n",
    "    isp, IspVac, Cstar, Tc, MW, gamma = get_propellant_properties(ipa_wt, of_ratio, p_ch, exp_ratio)\n",
    "    #print(-objective(IspVac, 230), 50 * exterior(p_ch, 2413166, True) , 50 * exterior(exp_ratio, 5.988, True))\n",
    "    merit = -objective(IspVac, 230) + 50* exterior(p_ch, 2413166, True) + 50 * exterior(exp_ratio, 5.988, True)\n",
    "    return merit\n",
    "\n",
    "def prop_opt(x0):\n",
    "    res = minimize(prop_cost, x0, method='nelder-mead', options={'disp': True, 'adaptive':True, 'xatol': 0.01, 'fatol': 0.01})\n",
    "    x = res.x # feed optimal design vec into next iteration\n",
    "    return x\n",
    "\n",
    "def prop_run():\n",
    "    x = prop_opt([64.8, 1.3, 2413166, 5.988])\n",
    "    #x = [64.8, 1.3, 2413166, 5.988]\n",
    "    ipa_wt, of_ratio, p_ch, exp_ratio = x\n",
    "    ipa_wt = min(ipa_wt, 99)\n",
    "    ipa_wt = 64.8\n",
    "    isp, IspVac, Cstar, Tc, MW, gamma = get_propellant_properties(ipa_wt, of_ratio, p_ch, exp_ratio)\n",
    "    if __name__ == '__main__' and not '__file__' in globals():\n",
    "        print('Alcohol Wt %: ', ipa_wt)\n",
    "        print('OF ratio: ', of_ratio)\n",
    "        print('P_ch (Pa): ', p_ch)\n",
    "        print('Expansion ratio: ', exp_ratio)\n",
    "        print()\n",
    "        print('Vacuum ISP (s): ', IspVac)\n",
    "        print('Chamber Temp (K): ', Tc)\n",
    "        print('Molar Wt (1/n): ', MW)\n",
    "        print('Spec Heat: ', gamma)\n",
    "    global PROPELLANT_SET\n",
    "    PROPELLANT_SET = True\n",
    "    return ipa_wt, of_ratio, p_ch, Tc, MW, gamma\n",
    "    "
   ]
  },
  {
   "cell_type": "code",
   "execution_count": 5,
   "metadata": {},
   "outputs": [
    {
     "name": "stdout",
     "output_type": "stream",
     "text": [
      "reading cea isp data files for LOX / LV4_Fuel 100 times\n",
      "reading cea isp data files for LOX / LV4_Fuel 200 times\n",
      "reading cea isp data files for LOX / LV4_Fuel 300 times\n",
      "Optimization terminated successfully.\n",
      "         Current function value: -0.779160\n",
      "         Iterations: 182\n",
      "         Function evaluations: 391\n",
      "Alcohol Wt %:  64.8\n",
      "OF ratio:  1.3846692240985337\n",
      "P_ch (Pa):  2413666.298058278\n",
      "Expansion ratio:  6.007040500102594\n",
      "\n",
      "Vacuum ISP (s):  287.1619484205367\n",
      "Chamber Temp (K):  3106.1230925802856\n",
      "Molar Wt (1/n):  23.725017448089833\n",
      "Spec Heat:  1.1214413773331058\n"
     ]
    }
   ],
   "source": [
    "if __name__ == '__main__' and not '__file__' in globals(): prop_run()"
   ]
  },
  {
   "cell_type": "code",
   "execution_count": 6,
   "metadata": {},
   "outputs": [
    {
     "name": "stdout",
     "output_type": "stream",
     "text": [
      "reading cea isp data files for LOX / LV4_Fuel 400 times\n",
      "reading cea isp data files for LOX / LV4_Fuel 500 times\n",
      "reading cea isp data files for LOX / LV4_Fuel 600 times\n",
      "reading cea isp data files for LOX / LV4_Fuel 700 times\n",
      "Optimization terminated successfully.\n",
      "         Current function value: -0.779160\n",
      "         Iterations: 182\n",
      "         Function evaluations: 391\n",
      "Alcohol Wt %:  64.8\n",
      "OF ratio:  1.3846692240985337\n",
      "P_ch (Pa):  2413666.298058278\n",
      "Expansion ratio:  6.007040500102594\n",
      "\n",
      "Vacuum ISP (s):  287.1619484205367\n",
      "Chamber Temp (K):  3106.1230925802856\n",
      "Molar Wt (1/n):  23.725017448089833\n",
      "Spec Heat:  1.1214413773331058\n"
     ]
    }
   ],
   "source": [
    "if __name__ == '__main__' and not '__file__' in globals(): prop_run()"
   ]
  },
  {
   "cell_type": "code",
   "execution_count": null,
   "metadata": {},
   "outputs": [],
   "source": []
  }
 ],
 "metadata": {
  "kernelspec": {
   "display_name": "Python 3",
   "language": "python",
   "name": "python3"
  },
  "language_info": {
   "codemirror_mode": {
    "name": "ipython",
    "version": 3
   },
   "file_extension": ".py",
   "mimetype": "text/x-python",
   "name": "python",
   "nbconvert_exporter": "python",
   "pygments_lexer": "ipython3",
   "version": "3.7.4"
  }
 },
 "nbformat": 4,
 "nbformat_minor": 2
}
