{
 "cells": [
  {
   "cell_type": "code",
   "execution_count": 10,
   "metadata": {},
   "outputs": [],
   "source": [
    "from rocketcea.cea_obj_w_units import CEA_Obj\n",
    "from rocketcea.cea_obj import add_new_fuel\n",
    "import numpy as np\n",
    "from scipy.optimize import minimize, shgo"
   ]
  },
  {
   "cell_type": "code",
   "execution_count": 2,
   "metadata": {},
   "outputs": [],
   "source": [
    "allvectors = []               # array for all design vecs, global variable\n",
    "allobjfun = []                # array for tracking objective function evaluations"
   ]
  },
  {
   "cell_type": "code",
   "execution_count": 35,
   "metadata": {},
   "outputs": [],
   "source": [
    "def objective(var, cons):\n",
    "    return (var/cons)**2 / 2\n",
    "def exterior(var, cons, good_if_less_than=False):\n",
    "    if good_if_less_than:\n",
    "        return np.max([0, var/cons - 1])**2 / 2\n",
    "    else:\n",
    "        return np.max([0, -(var/cons - 1)])**2 / 2\n",
    "def exact(var, cons):\n",
    "    return (var/cons - 1)**2 / 2\n",
    "def proportion(amount, ratio):\n",
    "    top = amount * ratio/(1 + ratio)\n",
    "    bottom = amount * 1/(1 + ratio)\n",
    "    return top, bottom"
   ]
  },
  {
   "cell_type": "code",
   "execution_count": 84,
   "metadata": {},
   "outputs": [],
   "source": [
    "def get_propellant_properties(alc_wt, of_ratio, p_ch, exp_ratio):\n",
    "    ipa_wt = min(alc_wt, 99)\n",
    "    eth_ratio = 21.11\n",
    "    alc_wt = min(alc_wt, 99.5)\n",
    "    eth_wt1, eth_wt2 = proportion(alc_wt, eth_ratio)\n",
    "    ipa_str = '''\n",
    "    fuel C3H8O-2propanol C 3 H 8 O 1    wt%=''' + str(ipa_wt) + '''\n",
    "    h,cal=-65133.     t(k)=298.15   rho,g/cc=0.786\n",
    "    fuel water H 2 O 1  wt%=''' + str(100 - ipa_wt) + '''\n",
    "    h,cal=-68308.  t(k)=298.15 rho,g/cc=0.9998\n",
    "    '''\n",
    "    eth_str = '''\n",
    "    fuel C2H5OH(L)   C 2 H 6 O 1       wt%=''' + str(eth_wt1) + '''\n",
    "    h,cal=-66370.0      t(k)=298.15       rho,g/cc=0.789\n",
    "    fuel C3H8O-2propanol C 3 H 8 O 1    wt%=''' + str(eth_wt2) + '''\n",
    "    h,cal=-65133.     t(k)=298.15   rho,g/cc=0.786\n",
    "    fuel water H 2 O 1  wt%=''' + str(100 - alc_wt) + '''\n",
    "    h,cal=-68308.  t(k)=298.15 rho,g/cc=0.9998\n",
    "    '''\n",
    "    add_new_fuel('LV4_Fuel', ipa_str)\n",
    "    #add_new_fuel('LV4_Fuel', eth_str)\n",
    "    PROPELLANT = CEA_Obj(oxName='LOX', fuelName='LV4_Fuel',\n",
    "                        pressure_units='Pa', temperature_units='K', cstar_units='m/s',\n",
    "                         density_units='kg/m^3', isp_units='sec', specific_heat_units='J/kg-K')\n",
    "    isp = PROPELLANT.get_Isp(Pc=p_ch, MR=of_ratio, eps=exp_ratio)\n",
    "    IspVac, Cstar, Tc, MW, gamma = PROPELLANT.get_IvacCstrTc_ChmMwGam(Pc=p_ch, MR=of_ratio, eps=exp_ratio)\n",
    "    return [isp, IspVac, Cstar, Tc, MW, gamma]\n",
    "\n",
    "def prop_cost(x):\n",
    "    ipa_wt, of_ratio, p_ch, exp_ratio = x\n",
    "    #ipa_wt = 64.8\n",
    "    isp, IspVac, Cstar, Tc, MW, gamma = get_propellant_properties(ipa_wt, of_ratio, p_ch, exp_ratio)\n",
    "    merit = -objective(IspVac, 250) + 50* exterior(p_ch, 2413166, True) + 50 * exact(exp_ratio, 5)\n",
    "    return merit\n",
    "\n",
    "def prop_opt(x0):\n",
    "    #res = minimize(prop_cost, x0, method='nelder-mead', options={'disp': True, 'adaptive':True})\n",
    "    res = shgo(prop_cost,# options={'disp':True},\n",
    "               n=50, iters=1, sampling_method='sobol',\n",
    "               bounds=[*zip([0.1,0.1,0.1, 3],\n",
    "                                [100,10,2413166*2,7])],\n",
    "              minimizer_kwargs={'method':'Nelder-Mead', 'options':{'adaptive':True}})\n",
    "    x = res.x\n",
    "    return x\n",
    "\n",
    "def prop_run():\n",
    "    x = prop_opt([64.8, 1.3, 2413166, 5.988])\n",
    "    ipa_wt, of_ratio, p_ch, exp_ratio = x\n",
    "    ipa_wt = min(ipa_wt, 99)\n",
    "    #ipa_wt = 64.8\n",
    "    isp, IspVac, Cstar, Tc, MW, gamma = get_propellant_properties(ipa_wt, of_ratio, p_ch, exp_ratio)\n",
    "    if __name__ == '__main__' and not '__file__' in globals():\n",
    "        print('Alcohol Wt %: ', ipa_wt)\n",
    "        print('OF ratio: ', of_ratio)\n",
    "        print('P_ch (Pa): ', p_ch)\n",
    "        print('Expansion ratio: ', exp_ratio)\n",
    "        print()\n",
    "        print('Vacuum ISP (s): ', IspVac)\n",
    "        print('Chamber Temp (K): ', Tc)\n",
    "        print('Molar Wt (1/n): ', MW)\n",
    "        print('Spec Heat: ', gamma)\n",
    "    global PROPELLANT_SET\n",
    "    PROPELLANT_SET = True\n",
    "    return ipa_wt, of_ratio, p_ch, Tc, MW, gamma\n",
    "    "
   ]
  },
  {
   "cell_type": "code",
   "execution_count": 85,
   "metadata": {},
   "outputs": [
    {
     "name": "stdout",
     "output_type": "stream",
     "text": [
      "reading cea isp data files for LOX / LV4_Fuel 67500 times\n",
      "reading cea isp data files for LOX / LV4_Fuel 67600 times\n",
      "reading cea isp data files for LOX / LV4_Fuel 67700 times\n",
      "reading cea isp data files for LOX / LV4_Fuel 67800 times\n",
      "reading cea isp data files for LOX / LV4_Fuel 67900 times\n",
      "reading cea isp data files for LOX / LV4_Fuel 68000 times\n",
      "reading cea isp data files for LOX / LV4_Fuel 68100 times\n",
      "reading cea isp data files for LOX / LV4_Fuel 68200 times\n",
      "reading cea isp data files for LOX / LV4_Fuel 68300 times\n",
      "reading cea isp data files for LOX / LV4_Fuel 68400 times\n",
      "reading cea isp data files for LOX / LV4_Fuel 68500 times\n",
      "reading cea isp data files for LOX / LV4_Fuel 68600 times\n",
      "reading cea isp data files for LOX / LV4_Fuel 68700 times\n",
      "reading cea isp data files for LOX / LV4_Fuel 68800 times\n",
      "reading cea isp data files for LOX / LV4_Fuel 68900 times\n",
      "reading cea isp data files for LOX / LV4_Fuel 69000 times\n",
      "reading cea isp data files for LOX / LV4_Fuel 69100 times\n",
      "reading cea isp data files for LOX / LV4_Fuel 69200 times\n",
      "reading cea isp data files for LOX / LV4_Fuel 69300 times\n",
      "reading cea isp data files for LOX / LV4_Fuel 69400 times\n",
      "reading cea isp data files for LOX / LV4_Fuel 69500 times\n",
      "reading cea isp data files for LOX / LV4_Fuel 69600 times\n",
      "reading cea isp data files for LOX / LV4_Fuel 69700 times\n",
      "reading cea isp data files for LOX / LV4_Fuel 69800 times\n",
      "reading cea isp data files for LOX / LV4_Fuel 69900 times\n",
      "Alcohol Wt %:  99\n",
      "OF ratio:  1.7802457601815904\n",
      "P_ch (Pa):  2413681.444717403\n",
      "Expansion ratio:  5.0154005000034845\n",
      "\n",
      "Vacuum ISP (s):  298.19095685804245\n",
      "Chamber Temp (K):  3347.0105051979035\n",
      "Molar Wt (1/n):  22.55874172528468\n",
      "Spec Heat:  1.1302447542459892\n"
     ]
    }
   ],
   "source": [
    "if __name__ == '__main__' and not '__file__' in globals(): prop_run()"
   ]
  },
  {
   "cell_type": "code",
   "execution_count": 81,
   "metadata": {
    "scrolled": false
   },
   "outputs": [
    {
     "name": "stdout",
     "output_type": "stream",
     "text": [
      "reading cea isp data files for LOX / LV4_Fuel 63700 times\n",
      "reading cea isp data files for LOX / LV4_Fuel 63800 times\n",
      "reading cea isp data files for LOX / LV4_Fuel 63900 times\n",
      "reading cea isp data files for LOX / LV4_Fuel 64000 times\n",
      "reading cea isp data files for LOX / LV4_Fuel 64100 times\n",
      "reading cea isp data files for LOX / LV4_Fuel 64200 times\n",
      "reading cea isp data files for LOX / LV4_Fuel 64300 times\n",
      "reading cea isp data files for LOX / LV4_Fuel 64400 times\n",
      "reading cea isp data files for LOX / LV4_Fuel 64500 times\n",
      "reading cea isp data files for LOX / LV4_Fuel 64600 times\n",
      "reading cea isp data files for LOX / LV4_Fuel 64700 times\n",
      "reading cea isp data files for LOX / LV4_Fuel 64800 times\n",
      "reading cea isp data files for LOX / LV4_Fuel 64900 times\n",
      "reading cea isp data files for LOX / LV4_Fuel 65000 times\n",
      "reading cea isp data files for LOX / LV4_Fuel 65100 times\n",
      "reading cea isp data files for LOX / LV4_Fuel 65200 times\n",
      "reading cea isp data files for LOX / LV4_Fuel 65300 times\n",
      "reading cea isp data files for LOX / LV4_Fuel 65400 times\n",
      "reading cea isp data files for LOX / LV4_Fuel 65500 times\n",
      "reading cea isp data files for LOX / LV4_Fuel 65600 times\n",
      "reading cea isp data files for LOX / LV4_Fuel 65700 times\n",
      "reading cea isp data files for LOX / LV4_Fuel 65800 times\n",
      "reading cea isp data files for LOX / LV4_Fuel 65900 times\n",
      "reading cea isp data files for LOX / LV4_Fuel 66000 times\n",
      "reading cea isp data files for LOX / LV4_Fuel 66100 times\n",
      "reading cea isp data files for LOX / LV4_Fuel 66200 times\n",
      "Alcohol Wt %:  64.8\n",
      "OF ratio:  1.3725349101646958\n",
      "P_ch (Pa):  2413561.37938633\n",
      "Expansion ratio:  5.013956500065522\n",
      "\n",
      "Vacuum ISP (s):  281.695838171516\n",
      "Chamber Temp (K):  3102.7620631927903\n",
      "Molar Wt (1/n):  23.66475519576293\n",
      "Spec Heat:  1.1218630314950973\n"
     ]
    }
   ],
   "source": [
    "if __name__ == '__main__' and not '__file__' in globals(): prop_run()"
   ]
  },
  {
   "cell_type": "code",
   "execution_count": null,
   "metadata": {},
   "outputs": [],
   "source": []
  }
 ],
 "metadata": {
  "kernelspec": {
   "display_name": "Python 3",
   "language": "python",
   "name": "python3"
  },
  "language_info": {
   "codemirror_mode": {
    "name": "ipython",
    "version": 3
   },
   "file_extension": ".py",
   "mimetype": "text/x-python",
   "name": "python",
   "nbconvert_exporter": "python",
   "pygments_lexer": "ipython3",
   "version": "3.7.4"
  }
 },
 "nbformat": 4,
 "nbformat_minor": 2
}
