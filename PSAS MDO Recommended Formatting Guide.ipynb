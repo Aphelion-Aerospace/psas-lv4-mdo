{
 "cells": [
  {
   "cell_type": "markdown",
   "metadata": {},
   "source": [
    "# PSAS MDO Recommended Formatting Guide\n",
    "\n",
    "Created: 7/18/2021 \n",
    "\n",
    "Modified: 7/18/2021 \n",
    "\n",
    "\n",
    "Jupyter Notebooks in the Multi-Disciplinary Optimization (MDO) repository shall have standardized documentation and formatting for Python code. This guide is based on Python's PEP 8 (Style Guide for Python Code) and PEP 257 (Docstring convention)\n",
    "\n",
    "PEP 8   - https://www.python.org/dev/peps/pep-0008/\n",
    "\n",
    "PEP 257 - https://www.python.org/dev/peps/pep-0257/\n",
    "\n",
    "When in doubt, reference these links. Not every note in these PEP guides has to be followed.\n",
    "\n",
    "This guide is still a work-in progress and is subject to change."
   ]
  },
  {
   "cell_type": "markdown",
   "metadata": {},
   "source": [
    "# Equation-Functions and Variable Names\n",
    "\n",
    "Functions that represent equations are an integral part to the MDO repository. Most equations used in the MDO are used to calculate other variables.\n",
    "\n",
    "In most cases, names should either be the literal characters used in an equation or the spelling of the greek characters. Subscripts are denoted with an underscore. \n",
    "\n",
    "The name of a function that represents an equation should be named by the variable the equation is equal to."
   ]
  },
  {
   "cell_type": "code",
   "execution_count": 1,
   "metadata": {},
   "outputs": [],
   "source": [
    "# Equation example\n",
    "def C_N ():\n",
    "    \"\"\"Calculates the normal force coefficent\n",
    "    \n",
    "    Parameters:\n",
    "    N       - Normal force\n",
    "    rho     - Density of air\n",
    "    v_0     - Free-stream velocity\n",
    "    A_ref   - Reference area\n",
    "    \n",
    "    OpenRocket Technical Documentation, equation 3.1\n",
    "    \"\"\"\n",
    "    return N * 2 / (rho * v_0^2 * A_ref)"
   ]
  },
  {
   "cell_type": "markdown",
   "metadata": {},
   "source": [
    "Each equation should have a short citation that includes the title or authors of the material and the equation number (or other identifier). \n",
    "\n",
    "Avoid changing the format of an equation from the source material. Simple subtitutions are fine (such as changing a divide by 2 to a multiplication of 0.5, or dividing by 1/2 to a multiplication of 2)."
   ]
  },
  {
   "cell_type": "markdown",
   "metadata": {},
   "source": [
    "# Docstrings\n",
    "\n",
    "Docstrings provide relevant information about a function. Every equation-based function should have a docstring.\n",
    "\n",
    "Docstrings should use 3 double quotation marks and begin on the first line after the beginning of a function. A one-line summary begins on the same line. The summary shoud be followed by one line space and then a list of parameters. If the return is similar to the summary, then a return statement is not necessary. Any notes, such as citing an equation from a book, should come after the parameters. The closing three double-quotation marks should be on their own line."
   ]
  },
  {
   "cell_type": "code",
   "execution_count": 2,
   "metadata": {},
   "outputs": [],
   "source": [
    "# Docstring examples\n",
    "def multiply (a, b):\n",
    "    \"\"\"Multiplies two numbers\n",
    "    \n",
    "    Paramters:\n",
    "    a - one multiple\n",
    "    b - the other multiple\n",
    "    \"\"\"\n",
    "    return a*b\n",
    "\n",
    "def C_N ():\n",
    "    \"\"\"Calculates the normal force coefficent\n",
    "    \n",
    "    Parameters:\n",
    "    N       - Normal force [N]\n",
    "    rho     - Density of air [kg/(m^3)]\n",
    "    v_0     - Free-stream velocity [m/s]\n",
    "    A_ref   - Reference area [m^2]\n",
    "    \n",
    "    OpenRocet Technical Documentation, equation 3.1\n",
    "    \"\"\"\n",
    "    return N * 2 / (rho * v_0^2 * A_ref)"
   ]
  },
  {
   "cell_type": "markdown",
   "metadata": {},
   "source": [
    "It is recommended that the descriptions of the parameters begin three spaces after the longest parameter with a hyphen and a space. Units for a parameter should be enclosed in brackes or parenthesis (but should be consistent throughout the document).\n",
    "\n",
    "For functions that are equations, it is sufficient for the summary to say \"Calcuates the (whatever the equation calculates).\" \n",
    "\n",
    "Many of the equation-functions in a notebook use the same set parameters. It is optional to begin the document with a table explaining each common parameter. However, each docstring should still list the descriptions of each parameter every time. This is for carrying the parameter information when a function is copy-pasted or when the docstring is referenced in another document."
   ]
  },
  {
   "cell_type": "markdown",
   "metadata": {},
   "source": [
    "# OTHER\n",
    "\n",
    "PEP 8 suggests that a line length is limited to 72 characters. Since the python code is in Jupyter Notebook kernels, the line length should be the full width of the kernel (120 characters)"
   ]
  },
  {
   "cell_type": "code",
   "execution_count": 3,
   "metadata": {},
   "outputs": [],
   "source": [
    "# 72 Character Line length\n",
    "############################################################\n",
    "\n",
    "# 120 Character Line Length\n",
    "########################################################################################################################"
   ]
  }
 ],
 "metadata": {
  "kernelspec": {
   "display_name": "Python 3",
   "language": "python",
   "name": "python3"
  },
  "language_info": {
   "codemirror_mode": {
    "name": "ipython",
    "version": 3
   },
   "file_extension": ".py",
   "mimetype": "text/x-python",
   "name": "python",
   "nbconvert_exporter": "python",
   "pygments_lexer": "ipython3",
   "version": "3.9.1"
  }
 },
 "nbformat": 4,
 "nbformat_minor": 4
}
