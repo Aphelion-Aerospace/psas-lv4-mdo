{
 "cells": [
  {
   "cell_type": "markdown",
   "metadata": {},
   "source": [
    "## Barrowman Method for LV4\n",
    "This code is an application of the barrowman method for determining the center of pressure for each respective component of the rocket. This method is meant to provide insight on the drag coefficient vs. Mach number for the LV4 rocket for PSAS.\n",
    "\n",
    "References:\n",
    "- http://ntrs.nasa.gov/archive/nasa/casi.ntrs.nasa.gov/20010047838.pdf\n",
    "- http://rocketmime.com/rockets/Barrowman"
   ]
  },
  {
   "cell_type": "code",
   "execution_count": 4,
   "metadata": {
    "collapsed": false
   },
   "outputs": [
    {
     "ename": "SyntaxError",
     "evalue": "invalid syntax (<ipython-input-4-788a7f10dfd0>, line 22)",
     "output_type": "error",
     "traceback": [
      "\u001b[1;36m  File \u001b[1;32m\"<ipython-input-4-788a7f10dfd0>\"\u001b[1;36m, line \u001b[1;32m22\u001b[0m\n\u001b[1;33m    xr = # Distance, 'root' LE to 'tip' LE (m)\u001b[0m\n\u001b[1;37m                                              ^\u001b[0m\n\u001b[1;31mSyntaxError\u001b[0m\u001b[1;31m:\u001b[0m invalid syntax\n"
     ]
    }
   ],
   "source": [
    "import math as m\n",
    "import numpy as np\n",
    "\n",
    "# Ian B Zabel Barrowman Method Application\n",
    "# Equations from:\n",
    "#  ntrs.nasa.gov/archive/nasa/casi.ntrs.nasa.gov/20010047838.pdf\n",
    "#  rocketmime.com/rockets/Barrowman\n",
    "# All units in SI\n",
    "\n",
    "Ln = 0.5 # Nose Length (m)\n",
    "d  = 0.27 # Base of Nose Diameter (m)\n",
    "df = 0 # Transition Front Diameter (m)\n",
    "dr = 0 # Transition End Diameter (m)\n",
    "Lt = 0 # Transition Length (m)\n",
    "xp = 0 # Tip to Transition Length (m)\n",
    "Cr = 0.25 # Fin Root Chord (m)\n",
    "Ct = 0.125 # Fin Tip Chord (m)\n",
    "S  = 0.5 # Fin Semi-Span (m)\n",
    "O  = 10 # Sweep Angle (degrees)\n",
    "Lf = S/m.cos(O) # Span at Midchord (m)\n",
    "R  = d/2 # Aft Radius (m)\n",
    "xr = # Distance, 'root' LE to 'tip' LE (m)\n",
    "xb = # Distance, nose to 'tip' LE (m)\n",
    "N  = 4 # Number of Fins (dimless)\n",
    "xn = 0.47*Ln # For Ogive Cone (dimless)\n",
    "Cnn = 2 # For nosecone (dimless)\n",
    "\n",
    "Cnt = 2*((dr/d)^2 - (df/d)^2) # Conical transition term\n",
    "xt = xp + (Lt/3)*(1 + (1 - df/dr)/(1 - (df/dr)^2)) # More tonical transition terms (m)\n",
    "\n",
    "Cnf = (1 + R/(S + R))*(4*N*(S/d)^2 / (1 + m.sqrt(1 + (2*Lf/(Cr + Ct))^2))) # Fin terms\n",
    "xf = xb + (xr/3)*(Cr + 2*Ct)/(Cr + Ct) + (1/6)*(Cr + Ct + (Cr*Ct)/(Cr + Ct)) # More fin terms (m)\n",
    "xcp = (Cnn*xn + Cnt*xt + Cnf*xf)/(Cnn + Cnt + Cnf) # Center of pressure distance from tip (m)\n",
    "print('Center of Pressure Parameters')\n",
    "print('-----------------------------')\n",
    "print('Center of Pressure Location = {0:.2f}'.format(xcp))\n",
    "print(' Note: Distance from nose tip')"
   ]
  },
  {
   "cell_type": "code",
   "execution_count": null,
   "metadata": {
    "collapsed": true
   },
   "outputs": [],
   "source": []
  }
 ],
 "metadata": {
  "kernelspec": {
   "display_name": "Python 2",
   "language": "python",
   "name": "python2"
  },
  "language_info": {
   "codemirror_mode": {
    "name": "ipython",
    "version": 2
   },
   "file_extension": ".py",
   "mimetype": "text/x-python",
   "name": "python",
   "nbconvert_exporter": "python",
   "pygments_lexer": "ipython2",
   "version": "2.7.11"
  }
 },
 "nbformat": 4,
 "nbformat_minor": 0
}
