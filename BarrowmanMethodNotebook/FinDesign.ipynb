{
 "cells": [
  {
   "cell_type": "code",
   "execution_count": null,
   "metadata": {
    "collapsed": true
   },
   "outputs": [],
   "source": [
    "# Fin Design, LV3\n",
    "\n",
    "# Fin Parameters\n",
    "\n",
    "cr = 0.457 # Root chord (m)\n",
    "ct = 0.127 # Tip chord (m)\n",
    "S  = 0.163 # Span (m)\n",
    "SL = 0.229 # Sweep length (m)\n",
    "Th = 54.6  # Sweep angle (deg.)"
   ]
  }
 ],
 "metadata": {
  "kernelspec": {
   "display_name": "Python 2",
   "language": "python",
   "name": "python2"
  },
  "language_info": {
   "codemirror_mode": {
    "name": "ipython",
    "version": 2
   },
   "file_extension": ".py",
   "mimetype": "text/x-python",
   "name": "python",
   "nbconvert_exporter": "python",
   "pygments_lexer": "ipython2",
   "version": "2.7.11"
  }
 },
 "nbformat": 4,
 "nbformat_minor": 0
}
