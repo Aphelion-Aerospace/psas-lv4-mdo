{
 "cells": [
  {
   "cell_type": "code",
   "execution_count": 2,
   "metadata": {
    "collapsed": false
   },
   "outputs": [
    {
     "name": "stdout",
     "output_type": "stream",
     "text": [
      "Factor of Safety: 83\n"
     ]
    }
   ],
   "source": [
    "# Fin Design, LV3\n",
    "\n",
    "# Fin Parameters\n",
    "\n",
    "cr = 0.457 # Root chord (m)\n",
    "ct = 0.127 # Tip chord (m)\n",
    "S  = 0.163 # Span (m)\n",
    "SL = 0.229 # Sweep length (m)\n",
    "Th = 54.6  # Sweep angle (deg.)\n",
    "\n",
    "mf = 0.301 # Fin mass (kg)\n",
    "mo = 0.263 # Fin mass, orig. (kg)\n",
    "\n",
    "Sy  = 2.7e8 # Yield strength (Pa)\n",
    "Sr  = 3.22e6 # Recorded stress, new (Pa, von Mises)\n",
    "Sr2 = \n",
    "\n",
    "FS = Sy/Sr\n",
    "\n",
    "print \"Factor of Safety: %d\" % (FS)"
    "FD = 0.525*(Mach1)**2 * (0.00406) * (0.76)*0.5"
   ]
  },
  {
   "cell_type": "code",
   "execution_count": null,
   "metadata": {
    "collapsed": true
   },
   "outputs": [],
   "source": []
  }
 ],
 "metadata": {
  "kernelspec": {
   "display_name": "Python 2",
   "language": "python",
   "name": "python2"
  },
  "language_info": {
   "codemirror_mode": {
    "name": "ipython",
    "version": 2
   },
   "file_extension": ".py",
   "mimetype": "text/x-python",
   "name": "python",
   "nbconvert_exporter": "python",
   "pygments_lexer": "ipython2",
   "version": "2.7.11"
  }
 },
 "nbformat": 4,
 "nbformat_minor": 0
}
