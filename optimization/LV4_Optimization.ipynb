{
 "cells": [
  {
   "cell_type": "markdown",
   "metadata": {},
   "source": [
    "## Multidisciplinary Design Optimization for LV4\n",
    "Placeholder text"
   ]
  },
  {
   "cell_type": "code",
   "execution_count": null,
   "metadata": {
    "collapsed": true
   },
   "outputs": [],
   "source": [
    "#a start towards a simple forward Euler integration for a rocket trajectory\n",
    "#F=ma\n",
    "#F=thrust - drag - gravity\n",
    "#m_wet(t)=m-mdot*dt\n",
    "#a=dv/dt\n",
    "#v=dx/dt\n",
    "#D = 0.5 * rho * v^2 *C_d * A\n",
    "#T = mdot*isp*g_0\n",
    "import math as m\n",
    "\n",
    "#physical constants\n",
    "g_0 = 9.81\n",
    "dt = 0.1\n",
    "\n",
    "#LV design variables\n",
    "C_d = .5\n",
    "radius = ()/2*\n",
    "A =  m.pi*r**2\n",
    "m_dry = \n",
    "m_wet =\n",
    "r = m_wet/(m_wet+m_dry)\n",
    "\n",
    "#initial conditions\n",
    "x=[0,0]\n",
    "v=[0,0]\n",
    "t=[0,0]\n",
    "\n",
    "while v > 0:\n",
    "    dx = x[-1] - x[-2]\n",
    "    x.append(x[-1] + dx)\n",
    "    dv = v[-1] - v[-2]\n",
    "    v.append(v[-1] + dv)\n",
    "    m = m_dry + m_wet\n",
    "    thrust - drag - g_0\n",
    "    m_wet -= mdot\n",
    "        if m_wet > 0:\n",
    "            thrust = mdot*isp*g_0\n",
    "        else:\n",
    "            thrust = 0\n",
    "            mdot = 0\n",
    "            \n",
    "    t.append(t[-1] + dt)"
   ]
  }
 ],
 "metadata": {
  "kernelspec": {
   "display_name": "Python 3",
   "language": "python",
   "name": "python3"
  },
  "language_info": {
   "codemirror_mode": {
    "name": "ipython",
    "version": 3
   },
   "file_extension": ".py",
   "mimetype": "text/x-python",
   "name": "python",
   "nbconvert_exporter": "python",
   "pygments_lexer": "ipython3",
   "version": "3.4.2"
  }
 },
 "nbformat": 4,
 "nbformat_minor": 0
}
